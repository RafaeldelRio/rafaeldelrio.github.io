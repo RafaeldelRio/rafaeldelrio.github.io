{
 "cells": [
  {
   "cell_type": "markdown",
   "metadata": {},
   "source": [
    "# Ejercicio 6: Clasificación de Dígitos Manuscritos (MNIST) con Keras/TensorFlow\n",
    "\n",
    "**Objetivo:** Construir, entrenar y evaluar una red neuronal simple (MLP) para un problema de clasificación de imágenes."
   ]
  },
  {
   "cell_type": "markdown",
   "metadata": {},
   "source": [
    "**Librerías:** `tensorflow`, `keras`, `numpy`, `matplotlib`"
   ]
  },
  {
   "cell_type": "code",
   "execution_count": null,
   "metadata": {},
   "outputs": [],
   "source": [
    "# Importar librerías\n",
    "import tensorflow as tf\n",
    "from tensorflow import keras\n",
    "import numpy as np\n",
    "import matplotlib.pyplot as plt\n",
    "\n",
    "# Configuración para mostrar gráficos en el notebook\n",
    "%matplotlib inline"
   ]
  },
  {
   "cell_type": "markdown",
   "metadata": {},
   "source": [
    "**1. Carga el dataset MNIST.**"
   ]
  },
  {
   "cell_type": "code",
   "execution_count": null,
   "metadata": {},
   "outputs": [],
   "source": [
    "# Tu código aquí\n",
    "(x_train, y_train), (x_test, y_test) = # ... usar keras.datasets.mnist.load_data()\n",
    "print(\"Datos MNIST cargados.\")"
   ]
  },
  {
   "cell_type": "markdown",
   "metadata": {},
   "source": [
    "**2. Inspecciona las dimensiones de los datos.**"
   ]
  },
  {
   "cell_type": "code",
   "execution_count": null,
   "metadata": {},
   "outputs": [],
   "source": [
    "# Tu código aquí\n",
    "print(\"Forma de x_train:\", # ...)\n",
    "print(\"Forma de y_train:\", # ...)\n",
    "print(\"Forma de x_test:\", # ...)\n",
    "print(\"Forma de y_test:\", # ...)"
   ]
  },
  {
   "cell_type": "markdown",
   "metadata": {},
   "source": [
    "**Opcional: Visualizar algunas imágenes**"
   ]
  },
  {
   "cell_type": "code",
   "execution_count": null,
   "metadata": {},
   "outputs": [],
   "source": [
    "# Visualizar las primeras 9 imágenes\n",
    "plt.figure(figsize=(6,6))\n",
    "for i in range(9):\n",
    "    plt.subplot(3,3,i+1)\n",
    "    plt.xticks([])\n",
    "    plt.yticks([])\n",
    "    plt.grid(False)\n",
    "    plt.imshow(x_train[i], cmap=plt.cm.binary) # Mostrar en escala de grises\n",
    "    plt.xlabel(y_train[i]) # Mostrar la etiqueta verdadera\n",
    "plt.show()"
   ]
  },
  {
   "cell_type": "markdown",
   "metadata": {},
   "source": [
    "**3. Preprocesa las imágenes:**\n",
    "* Redimensiona de 28x28 a un vector de 784.\n",
    "* Normaliza los valores de píxeles a [0, 1] (dividiendo por 255.0).\n",
    "* Asegúrate de que el tipo de dato sea `float32`."
   ]
  },
  {
   "cell_type": "code",
   "execution_count": null,
   "metadata": {},
   "outputs": [],
   "source": [
    "# Tu código aquí\n",
    "num_pixels = x_train.shape[1] * x_train.shape[2] # 28*28 = 784\n",
    "\n",
    "x_train = # ... redimensionar x_train (reshape)\n",
    "x_test = # ... redimensionar x_test (reshape)\n",
    "\n",
    "# Convertir a float32 y normalizar\n",
    "x_train = x_train.astype('float32') / 255.0\n",
    "x_test = x_test.astype('float32') / 255.0\n",
    "\n",
    "print(\"Forma de x_train después de preprocesar:\", x_train.shape)\n",
    "print(\"Forma de x_test después de preprocesar:\", x_test.shape)"
   ]
  },
  {
   "cell_type": "markdown",
   "metadata": {},
   "source": [
    "**4. Preprocesa las etiquetas (y_train, y_test):**\n",
    "* Conviértelas a formato *one-hot encoding* usando `keras.utils.to_categorical()`."
   ]
  },
  {
   "cell_type": "code",
   "execution_count": null,
   "metadata": {},
   "outputs": [],
   "source": [
    "# Tu código aquí\n",
    "num_classes = 10\n",
    "y_train = # ... usar keras.utils.to_categorical()\n",
    "y_test = # ... usar keras.utils.to_categorical()\n",
    "\n",
    "print(\"Forma de y_train después de one-hot encoding:\", y_train.shape)\n",
    "print(\"Forma de y_test después de one-hot encoding:\", y_test.shape)\n",
    "print(\"Ejemplo de etiqueta one-hot (y_train[0]):\", y_train[0])"
   ]
  },
  {
   "cell_type": "markdown",
   "metadata": {},
   "source": [
    "**5. Construye el modelo secuencial (`keras.Sequential`):**\n",
    "* Capa Densa: 128 neuronas, activación 'relu', `input_shape=(784,)`.\n",
    "* Capa Dropout: 0.2 (opcional).\n",
    "* Capa Densa de Salida: 10 neuronas (clases), activación 'softmax'."
   ]
  },
  {
   "cell_type": "code",
   "execution_count": null,
   "metadata": {},
   "outputs": [],
   "source": [
    "# Tu código aquí\n",
    "model = keras.Sequential([\n",
    "    # ... Añadir capa Dense (entrada/oculta)\n",
    "    # ... Añadir capa Dropout (opcional)\n",
    "    # ... Añadir capa Dense (salida)\n",
    "])\n",
    "\n",
    "# Muestra un resumen del modelo\n",
    "model.summary()"
   ]
  },
  {
   "cell_type": "markdown",
   "metadata": {},
   "source": [
    "**6. Compila el modelo (`compile()`):**\n",
    "* Optimizador: 'adam'.\n",
    "* Función de pérdida: 'categorical_crossentropy'.\n",
    "* Métrica: 'accuracy'."
   ]
  },
  {
   "cell_type": "code",
   "execution_count": null,
   "metadata": {},
   "outputs": [],
   "source": [
    "# Tu código aquí\n",
    "# ... compilar el modelo\n",
    "\n",
    "print(\"Modelo compilado.\")"
   ]
  },
  {
   "cell_type": "markdown",
   "metadata": {},
   "source": [
    "**7. Entrena el modelo (`fit()`):**\n",
    "* Datos: `x_train`, `y_train`.\n",
    "* Épocas: 10 (o más/menos según veas necesario).\n",
    "* Tamaño de batch: 128.\n",
    "* Datos de validación: `(x_test, y_test)`."
   ]
  },
  {
   "cell_type": "code",
   "execution_count": null,
   "metadata": {},
   "outputs": [],
   "source": [
    "# Definir parámetros de entrenamiento\n",
    "epochs = 10\n",
    "batch_size = 128\n",
    "\n",
    "# Tu código aquí\n",
    "history = # ... entrenar el modelo con fit()\n",
    "\n",
    "print(\"Entrenamiento completado.\")"
   ]
  },
  {
   "cell_type": "markdown",
   "metadata": {},
   "source": [
    "**8. Evalúa el modelo entrenado sobre el conjunto de prueba (`evaluate()`).**"
   ]
  },
  {
   "cell_type": "code",
   "execution_count": null,
   "metadata": {},
   "outputs": [],
   "source": [
    "# Tu código aquí\n",
    "score = # ... evaluar el modelo con evaluate(x_test, y_test)\n",
    "\n",
    "print(f'Pérdida en el conjunto de prueba: {score[0]:.4f}')\n",
    "print(f'Precisión en el conjunto de prueba: {score[1]:.4f}')"
   ]
  },
  {
   "cell_type": "markdown",
   "metadata": {},
   "source": [
    "**9. (Opcional) Realiza algunas predicciones y visualiza.**"
   ]
  },
  {
   "cell_type": "code",
   "execution_count": null,
   "metadata": {},
   "outputs": [],
   "source": [
    "# Hacer predicciones sobre el conjunto de test\n",
    "predictions = model.predict(x_test)\n",
    "\n",
    "# Función para visualizar una imagen, su etiqueta predicha y la verdadera\n",
    "def plot_image(i, predictions_array, true_label, img):\n",
    "  predictions_array, true_label, img = predictions_array[i], np.argmax(true_label[i]), img[i]\n",
    "  plt.grid(False)\n",
    "  plt.xticks([])\n",
    "  plt.yticks([])\n",
    "  \n",
    "  img_reshaped = img.reshape(28, 28) # Volver a la forma 28x28 para mostrar\n",
    "  plt.imshow(img_reshaped, cmap=plt.cm.binary)\n",
    "\n",
    "  predicted_label = np.argmax(predictions_array)\n",
    "  if predicted_label == true_label:\n",
    "    color = 'blue'\n",
    "  else:\n",
    "    color = 'red'\n",
    "\n",
    "  plt.xlabel(f\"Pred: {predicted_label} ({100*np.max(predictions_array):2.0f}%) | True: {true_label}\", color=color)\n",
    "\n",
    "# Mostrar algunas imágenes con sus predicciones\n",
    "num_rows = 5\n",
    "num_cols = 3\n",
    "num_images = num_rows*num_cols\n",
    "plt.figure(figsize=(2*2*num_cols, 2*num_rows))\n",
    "for i in range(num_images):\n",
    "  plt.subplot(num_rows, 2*num_cols, 2*i+1)\n",
    "  plot_image(i, predictions, y_test, x_test) # Pasamos y_test (one-hot), la función obtiene el índice\n",
    "plt.tight_layout()\n",
    "plt.show()"
   ]
  }
 ],
 "metadata": {
  "kernelspec": {
   "display_name": "Python 3",
   "language": "python",
   "name": "python3"
  },
  "language_info": {
   "name": "python",
   "version": "3.x.y"
  }
 },
 "nbformat": 4,
 "nbformat_minor": 4
}