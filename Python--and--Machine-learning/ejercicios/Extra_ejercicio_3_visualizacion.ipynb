{
 "cells": [
  {
   "cell_type": "markdown",
   "metadata": {},
   "source": [
    "# Ejercicio 3: Gráficos Básicos con Matplotlib y Seaborn\n",
    "\n",
    "**Objetivo:** Crear visualizaciones para entender mejor los datos.\n",
    "\n",
    "**Nota:** Este notebook asume que has completado el Ejercicio 2 y tienes el DataFrame `df_iris` disponible o lo cargas de nuevo."
   ]
  },
  {
   "cell_type": "markdown",
   "metadata": {},
   "source": [
    "**Librerías:** `matplotlib`, `seaborn`, `pandas`"
   ]
  },
  {
   "cell_type": "code",
   "execution_count": null,
   "metadata": {},
   "outputs": [],
   "source": [
    "# Importar librerías\n",
    "import pandas as pd\n",
    "import matplotlib.pyplot as plt\n",
    "import seaborn as sns\n",
    "\n",
    "# Configuración para mostrar gráficos en el notebook\n",
    "%matplotlib inline \n",
    "# Opcional: estilo de seaborn\n",
    "sns.set(style=\"ticks\")"
   ]
  },
  {
   "cell_type": "markdown",
   "metadata": {},
   "source": [
    "**Cargar los datos (si es necesario)**"
   ]
  },
  {
   "cell_type": "code",
   "execution_count": null,
   "metadata": {},
   "outputs": [],
   "source": [
    "# Carga el DataFrame Iris si no lo tienes de un ejercicio anterior\n",
    "url_iris = 'https://raw.githubusercontent.com/mwaskom/seaborn-data/master/iris.csv'\n",
    "df_iris = pd.read_csv(url_iris)\n",
    "df_iris.head() # Verificar"
   ]
  },
  {
   "cell_type": "markdown",
   "metadata": {},
   "source": [
    "**1. Crea un histograma de la longitud del pétalo ('petal_length') usando Matplotlib.**\n",
    "Añade título y etiquetas a los ejes."
   ]
  },
  {
   "cell_type": "code",
   "execution_count": null,
   "metadata": {},
   "outputs": [],
   "source": [
    "# Tu código aquí\n",
    "plt.figure(figsize=(8, 5)) # Tamaño opcional\n",
    "# ... crear histograma con plt.hist()\n",
    "# ... añadir título con plt.title()\n",
    "# ... añadir etiqueta X con plt.xlabel()\n",
    "# ... añadir etiqueta Y con plt.ylabel()\n",
    "plt.show() # Mostrar el gráfico"
   ]
  },
  {
   "cell_type": "markdown",
   "metadata": {},
   "source": [
    "**2. Crea un gráfico de dispersión (scatter plot) de 'sepal_length' vs 'sepal_width' usando Matplotlib.**\n",
    "Colorea los puntos según la especie ('species'). Añade una leyenda."
   ]
  },
  {
   "cell_type": "code",
   "execution_count": null,
   "metadata": {},
   "outputs": [],
   "source": [
    "# Tu código aquí\n",
    "plt.figure(figsize=(8, 6))\n",
    "species = df_iris['species'].unique() # Obtener nombres únicos de especies\n",
    "colors = {'setosa': 'red', 'versicolor': 'green', 'virginica': 'blue'} # Mapeo de colores\n",
    "\n",
    "# Iterar sobre cada especie para plotear con un color diferente\n",
    "for sp in species:\n",
    "    subset = df_iris[df_iris['species'] == sp]\n",
    "    # ... usar plt.scatter() para plotear subset['sepal_length'] vs subset['sepal_width']\n",
    "    #     usa el color correspondiente y etiqueta (label=sp)\n",
    "\n",
    "plt.title('Scatter Plot Sepal Length vs Sepal Width (Matplotlib)')\n",
    "plt.xlabel('Sepal Length (cm)')\n",
    "plt.ylabel('Sepal Width (cm)')\n",
    "# ... añadir leyenda con plt.legend()\n",
    "plt.grid(True) # Rejilla opcional\n",
    "plt.show()"
   ]
  },
  {
   "cell_type": "markdown",
   "metadata": {},
   "source": [
    "**3. Repite el gráfico de dispersión del punto 2, pero usando Seaborn (`scatterplot`).**\n",
    "Observa cómo maneja automáticamente la leyenda y la estética."
   ]
  },
  {
   "cell_type": "code",
   "execution_count": null,
   "metadata": {},
   "outputs": [],
   "source": [
    "# Tu código aquí\n",
    "plt.figure(figsize=(8, 6))\n",
    "# ... crear scatterplot con sns.scatterplot()\n",
    "#     Especifica x='sepal_length', y='sepal_width', hue='species', data=df_iris\n",
    "\n",
    "plt.title('Scatter Plot Sepal Length vs Sepal Width (Seaborn)')\n",
    "plt.xlabel('Sepal Length (cm)') # Seaborn a veces pone etiquetas, pero puedes personalizarlas\n",
    "plt.ylabel('Sepal Width (cm)')\n",
    "plt.grid(True)\n",
    "plt.show()"
   ]
  },
  {
   "cell_type": "markdown",
   "metadata": {},
   "source": [
    "**4. Crea un diagrama de caja (box plot) para cada una de las 4 características numéricas usando Seaborn.**\n",
    "Muéstralos agrupados por especie."
   ]
  },
  {
   "cell_type": "code",
   "execution_count": null,
   "metadata": {},
   "outputs": [],
   "source": [
    "# Tu código aquí\n",
    "# Seleccionar solo las columnas numéricas y la especie\n",
    "df_melt = pd.melt(df_iris, id_vars='species', var_name='Caracteristica', value_name='Valor (cm)')\n",
    "\n",
    "plt.figure(figsize=(12, 7))\n",
    "# ... crear boxplot con sns.boxplot()\n",
    "#     Especifica x='Caracteristica', y='Valor (cm)', hue='species', data=df_melt\n",
    "\n",
    "plt.title('Box Plot de Características por Especie')\n",
    "plt.show()"
   ]
  },
  {
   "cell_type": "markdown",
   "metadata": {},
   "source": [
    "**5. Crea un `pairplot` de Seaborn para visualizar las relaciones entre todas las variables numéricas, coloreando por especie.**"
   ]
  },
  {
   "cell_type": "code",
   "execution_count": null,
   "metadata": {},
   "outputs": [],
   "source": [
    "# Tu código aquí\n",
    "# ... crear pairplot con sns.pairplot()\n",
    "#     Especifica data=df_iris, hue='species'\n",
    "\n",
    "plt.suptitle('Pair Plot del Dataset Iris por Especie', y=1.02) # Título general ajustado\n",
    "plt.show()"
   ]
  }
 ],
 "metadata": {
  "kernelspec": {
   "display_name": "Python 3",
   "language": "python",
   "name": "python3"
  },
  "language_info": {
   "name": "python",
   "version": "3.x.y"
  }
 },
 "nbformat": 4,
 "nbformat_minor": 4
}