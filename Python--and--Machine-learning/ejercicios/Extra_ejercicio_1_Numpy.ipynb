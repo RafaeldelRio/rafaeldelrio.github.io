{
 "cells": [
  {
   "cell_type": "markdown",
   "metadata": {},
   "source": [
    "# Ejercicio 1: Operaciones Básicas con NumPy\n",
    "\n",
    "**Objetivo:** Familiarizarse con la creación y manipulación de arrays en NumPy."
   ]
  },
  {
   "cell_type": "markdown",
   "metadata": {},
   "source": [
    "**Librería:** `numpy`"
   ]
  },
  {
   "cell_type": "code",
   "execution_count": null,
   "metadata": {},
   "outputs": [],
   "source": [
    "# Importar NumPy\n",
    "import numpy as np"
   ]
  },
  {
   "cell_type": "markdown",
   "metadata": {},
   "source": [
    "**1. Crea un array NumPy 1D con números del 0 al 9.**"
   ]
  },
  {
   "cell_type": "code",
   "execution_count": null,
   "metadata": {},
   "outputs": [],
   "source": [
    "# Tu código aquí\n",
    "array_1d = # ..."
    "print(array_1d)"
   ]
  },
  {
   "cell_type": "markdown",
   "metadata": {},
   "source": [
    "**2. Crea una matriz NumPy 2D de 3x3 con valores aleatorios entre 0 y 1.**"
   ]
  },
  {
   "cell_type": "code",
   "execution_count": null,
   "metadata": {},
   "outputs": [],
   "source": [
    "# Tu código aquí\n",
    "matriz_aleatoria = # ..."
    "print(matriz_aleatoria)"
   ]
  },
  {
   "cell_type": "markdown",
   "metadata": {},
   "source": [
    "**3. Crea un array NumPy 1D con 10 ceros y otro con 10 unos.**"
   ]
  },
  {
   "cell_type": "code",
   "execution_count": null,
   "metadata": {},
   "outputs": [],
   "source": [
    "# Tu código aquí\n",
    "array_zeros = # ...\n",
    "array_ones = # ...\n",
    "print(\"Array de ceros:\", array_zeros)\n",
    "print(\"Array de unos:\", array_ones)"
   ]
  },
  {
   "cell_type": "markdown",
   "metadata": {},
   "source": [
    "**4. Dado el array `a = np.array([1, 5, 2, 9, 10, 15, 8])`, selecciona los elementos mayores que 5.**"
   ]
  },
  {
   "cell_type": "code",
   "execution_count": null,
   "metadata": {},
   "outputs": [],
   "source": [
    "a = np.array([1, 5, 2, 9, 10, 15, 8])\n",
    "# Tu código aquí\n",
    "elementos_mayores_5 = # ...\n",
    "print(elementos_mayores_5)"
   ]
  },
  {
   "cell_type": "markdown",
   "metadata": {},
   "source": [
    "**5. Crea dos matrices 2x2 (`A` y `B`) y calcula:**\n",
    "* La suma elemento a elemento ($A + B$).\n",
    "* La multiplicación elemento a elemento ($A * B$).\n",
    "* La multiplicación matricial ($A @ B$ o `np.dot(A, B)`)."
   ]
  },
  {
   "cell_type": "code",
   "execution_count": null,
   "metadata": {},
   "outputs": [],
   "source": [
    "# Tu código aquí\n",
    "A = # ... (ej: np.array([[1, 2], [3, 4]]))\n",
    "B = # ... (ej: np.array([[5, 6], [7, 8]]))\n",
    "\n",
    "suma = # ...\n",
    "multiplicacion_elem = # ...\n",
    "multiplicacion_mat = # ...\n",
    "\n",
    "print(\"Matriz A:\\n\", A)\n",
    "print(\"Matriz B:\\n\", B)\n",
    "print(\"Suma A+B:\\n\", suma)\n",
    "print(\"Mult Elem A*B:\\n\", multiplicacion_elem)\n",
    "print(\"Mult Mat A@B:\\n\", multiplicacion_mat)"
   ]
  },
  {
   "cell_type": "markdown",
   "metadata": {},
   "source": [
    "**6. Calcula la media, mediana y desviación estándar del array `a` del punto 4.**"
   ]
  },
  {
   "cell_type": "code",
   "execution_count": null,
   "metadata": {},
   "outputs": [],
   "source": [
    "# Reutilizamos 'a' del punto 4\n",
    "a = np.array([1, 5, 2, 9, 10, 15, 8])\n",
    "\n",
    "# Tu código aquí\n",
    "media = # ...\n",
    "mediana = # ...\n",
    "desviacion_estandar = # ...\n",
    "\n",
    "print(f\"Media: {media}\")\n",
    "print(f\"Mediana: {mediana}\")\n",
    "print(f\"Desviación Estándar: {desviacion_estandar}\")"
   ]
  }
 ],
 "metadata": {
  "kernelspec": {
   "display_name": "Python 3",
   "language": "python",
   "name": "python3"
  },
  "language_info": {
   "name": "python",
   "version": "3.x.y"
  }
 },
 "nbformat": 4,
 "nbformat_minor": 4
}