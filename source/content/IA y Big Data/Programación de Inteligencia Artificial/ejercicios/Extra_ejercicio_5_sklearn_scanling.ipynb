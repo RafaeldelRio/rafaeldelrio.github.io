{
 "cells": [
  {
   "cell_type": "markdown",
   "metadata": {},
   "source": [
    "# Ejercicio 5: Preprocesamiento: Escalado de Características\n",
    "\n",
    "**Objetivo:** Aplicar escalado a los datos y observar su efecto en el rendimiento del modelo KNN.\n",
    "\n",
    "**Nota:** Este notebook asume que has completado el Ejercicio 4 y tienes las variables `X_train`, `X_test`, `y_train`, `y_test` disponibles, o las generas de nuevo."
   ]
  },
  {
   "cell_type": "markdown",
   "metadata": {},
   "source": [
    "**Librerías:** `scikit-learn`, `pandas`"
   ]
  },
  {
   "cell_type": "code",
   "execution_count": null,
   "metadata": {},
   "outputs": [],
   "source": [
    "# Importar librerías necesarias\n",
    "import pandas as pd\n",
    "from sklearn.model_selection import train_test_split\n",
    "from sklearn.preprocessing import StandardScaler\n",
    "from sklearn.neighbors import KNeighborsClassifier\n",
    "from sklearn.metrics import accuracy_score"
   ]
  },
  {
   "cell_type": "markdown",
   "metadata": {},
   "source": [
    "**Cargar y dividir los datos (si es necesario)**\n",
    "Repetimos los pasos 1 y 2 del ejercicio anterior para asegurar que tenemos los datos."
   ]
  },
  {
   "cell_type": "code",
   "execution_count": null,
   "metadata": {},
   "outputs": [],
   "source": [
    "# Cargar datos\n",
    "url_iris = 'https://raw.githubusercontent.com/mwaskom/seaborn-data/master/iris.csv'\n",
    "df_iris = pd.read_csv(url_iris)\n",
    "\n",
    "# Separar X e y\n",
    "X = df_iris[['sepal_length', 'sepal_width', 'petal_length', 'petal_width']]\n",
    "y = df_iris['species']\n",
    "\n",
    "# Dividir datos\n",
    "X_train, X_test, y_train, y_test = train_test_split(X, y, test_size=0.2, random_state=42, stratify=y)"
   ]
  },
  {
   "cell_type": "markdown",
   "metadata": {},
   "source": [
    "**1. Reutilizar `X_train` y `X_test` del ejercicio anterior.**\n",
    "(Ya lo hicimos en la celda anterior)."
   ]
  },
  {
   "cell_type": "markdown",
   "metadata": {},
   "source": [
    "**2. Crea una instancia de `StandardScaler`.**"
   ]
  },
  {
   "cell_type": "code",
   "execution_count": null,
   "metadata": {},
   "outputs": [],
   "source": [
    "# Tu código aquí\n",
    "scaler = # ... instanciar StandardScaler()"
   ]
  },
  {
   "cell_type": "markdown",
   "metadata": {},
   "source": [
    "**3. Ajusta el escalador *únicamente* con los datos de entrenamiento (`X_train`).**"
   ]
  },
  {
   "cell_type": "code",
   "execution_count": null,
   "metadata": {},
   "outputs": [],
   "source": [
    "# Tu código aquí\n",
    "# ... ajustar el scaler con fit(X_train)\n",
    "print(\"Scaler ajustado con los datos de entrenamiento.\")"
   ]
  },
  {
   "cell_type": "markdown",
   "metadata": {},
   "source": [
    "**4. Transforma *ambos* conjuntos (`X_train` y `X_test`) usando el escalador ajustado.**"
   ]
  },
  {
   "cell_type": "code",
   "execution_count": null,
   "metadata": {},
   "outputs": [],
   "source": [
    "# Tu código aquí\n",
    "X_train_scaled = # ... transformar X_train con transform()\n",
    "X_test_scaled = # ... transformar X_test con transform()\n",
    "\n",
    "# Mostramos las primeras filas para verificar (opcional)\n",
    "print(\"X_train escalado (primeras filas):\\n\", X_train_scaled[:3])\n",
    "print(\"\\nX_test escalado (primeras filas):\\n\", X_test_scaled[:3])"
   ]
  },
  {
   "cell_type": "markdown",
   "metadata": {},
   "source": [
    "**5. Vuelve a entrenar un clasificador KNN (`n_neighbors=3`) usando los datos escalados.**"
   ]
  },
  {
   "cell_type": "code",
   "execution_count": null,
   "metadata": {},
   "outputs": [],
   "source": [
    "# Tu código aquí\n",
    "knn_scaled = # ... instanciar KNeighborsClassifier(n_neighbors=3)\n",
    "# ... entrenar knn_scaled con fit(X_train_scaled, y_train)\n",
    "print(\"Modelo KNN entrenado con datos escalados.\")"
   ]
  },
  {
   "cell_type": "markdown",
   "metadata": {},
   "source": [
    "**6. Realiza predicciones sobre `X_test_scaled`.**"
   ]
  },
  {
   "cell_type": "code",
   "execution_count": null,
   "metadata": {},
   "outputs": [],
   "source": [
    "# Tu código aquí\n",
    "y_pred_scaled = # ... hacer predicciones con predict(X_test_scaled)\n",
    "print(\"Predicciones realizadas con datos escalados.\")"
   ]
  },
  {
   "cell_type": "markdown",
   "metadata": {},
   "source": [
    "**7. Evalúa la precisión del nuevo modelo y compara.**"
   ]
  },
  {
   "cell_type": "code",
   "execution_count": null,
   "metadata": {},
   "outputs": [],
   "source": [
    "# Tu código aquí\n",
    "accuracy_scaled = # ... calcular accuracy_score(y_test, y_pred_scaled)\n",
    "print(f\"Precisión (Accuracy) del modelo KNN con datos escalados: {accuracy_scaled:.4f}\")\n",
    "\n",
    "# (Opcional) Puedes volver a calcular la precisión del modelo sin escalar para comparar directamente aquí\n",
    "# knn_unscaled = KNeighborsClassifier(n_neighbors=3)\n",
    "# knn_unscaled.fit(X_train, y_train)\n",
    "# y_pred_unscaled = knn_unscaled.predict(X_test)\n",
    "# accuracy_unscaled = accuracy_score(y_test, y_pred_unscaled)\n",
    "# print(f\"Precisión (Accuracy) del modelo KNN sin datos escalados: {accuracy_unscaled:.4f}\")"
   ]
  },
  {
   "cell_type": "markdown",
   "metadata": {},
   "source": [
    "**Pregunta:** ¿Ha mejorado, empeorado o se ha mantenido similar la precisión después de escalar los datos? ¿Por qué crees que ocurre esto en el caso de KNN?"
   ]
  }
 ],
 "metadata": {
  "kernelspec": {
   "display_name": "Python 3",
   "language": "python",
   "name": "python3"
  },
  "language_info": {
   "name": "python",
   "version": "3.x.y"
  }
 },
 "nbformat": 4,
 "nbformat_minor": 4
}