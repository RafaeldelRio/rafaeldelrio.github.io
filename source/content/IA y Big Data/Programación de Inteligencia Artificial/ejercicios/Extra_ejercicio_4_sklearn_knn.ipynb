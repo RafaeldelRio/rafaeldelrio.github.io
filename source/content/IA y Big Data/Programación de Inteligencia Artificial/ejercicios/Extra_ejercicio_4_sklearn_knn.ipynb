{
 "cells": [
  {
   "cell_type": "markdown",
   "metadata": {},
   "source": [
    "# Ejercicio 4: Clasificación Simple con K-Nearest Neighbors (KNN)\n",
    "\n",
    "**Objetivo:** Entrenar un modelo de clasificación básico y evaluarlo.\n",
    "\n",
    "**Nota:** Este notebook asume que tienes el DataFrame `df_iris` disponible o lo cargas de nuevo."
   ]
  },
  {
   "cell_type": "markdown",
   "metadata": {},
   "source": [
    "**Librerías:** `scikit-learn`, `pandas`, `numpy`"
   ]
  },
  {
   "cell_type": "code",
   "execution_count": null,
   "metadata": {},
   "outputs": [],
   "source": [
    "# Importar librerías\n",
    "import pandas as pd\n",
    "import numpy as np\n",
    "from sklearn.model_selection import train_test_split\n",
    "from sklearn.neighbors import KNeighborsClassifier\n",
    "from sklearn.metrics import accuracy_score, confusion_matrix, classification_report"
   ]
  },
  {
   "cell_type": "markdown",
   "metadata": {},
   "source": [
    "**Cargar los datos (si es necesario)**"
   ]
  },
  {
   "cell_type": "code",
   "execution_count": null,
   "metadata": {},
   "outputs": [],
   "source": [
    "# Carga el DataFrame Iris si no lo tienes de un ejercicio anterior\n",
    "url_iris = 'https://raw.githubusercontent.com/mwaskom/seaborn-data/master/iris.csv'\n",
    "df_iris = pd.read_csv(url_iris)\n",
    "df_iris.head()"
   ]
  },
  {
   "cell_type": "markdown",
   "metadata": {},
   "source": [
    "**1. Separa las características (X) y la variable objetivo (y).**"
   ]
  },
  {
   "cell_type": "code",
   "execution_count": null,
   "metadata": {},
   "outputs": [],
   "source": [
    "# Tu código aquí\n",
    "X = # ... selecciona las 4 columnas numéricas\n",
    "y = # ... selecciona la columna 'species'\n",
    "\n",
    "print(\"Dimensiones de X:\", X.shape)\n",
    "print(\"Dimensiones de y:\", y.shape)"
   ]
  },
  {
   "cell_type": "markdown",
   "metadata": {},
   "source": [
    "**2. Divide los datos en conjuntos de entrenamiento y prueba.**\n",
    "Usa 80% para entrenamiento y 20% para prueba. Usa `stratify=y` y `random_state=42`."
   ]
  },
  {
   "cell_type": "code",
   "execution_count": null,
   "metadata": {},
   "outputs": [],
   "source": [
    "# Tu código aquí\n",
    "X_train, X_test, y_train, y_test = # ... usar train_test_split\n",
    "\n",
    "print(\"Tamaño X_train:\", X_train.shape)\n",
    "print(\"Tamaño X_test:\", X_test.shape)\n",
    "print(\"Tamaño y_train:\", y_train.shape)\n",
    "print(\"Tamaño y_test:\", y_test.shape)"
   ]
  },
  {
   "cell_type": "markdown",
   "metadata": {},
   "source": [
    "**3. Crea una instancia del clasificador K-Nearest Neighbors (KNN).**\n",
    "Usa `n_neighbors=3`."
   ]
  },
  {
   "cell_type": "code",
   "execution_count": null,
   "metadata": {},
   "outputs": [],
   "source": [
    "# Tu código aquí\n",
    "knn = # ... instanciar KNeighborsClassifier"
   ]
  },
  {
   "cell_type": "markdown",
   "metadata": {},
   "source": [
    "**4. Entrena el modelo usando los datos de entrenamiento.**"
   ]
  },
  {
   "cell_type": "code",
   "execution_count": null,
   "metadata": {},
   "outputs": [],
   "source": [
    "# Tu código aquí\n",
    "# ... entrenar el modelo con fit(X_train, y_train)\n",
    "print(\"Modelo KNN entrenado.\")"
   ]
  },
  {
   "cell_type": "markdown",
   "metadata": {},
   "source": [
    "**5. Realiza predicciones sobre el conjunto de prueba.**"
   ]
  },
  {
   "cell_type": "code",
   "execution_count": null,
   "metadata": {},
   "outputs": [],
   "source": [
    "# Tu código aquí\n",
    "y_pred = # ... hacer predicciones con predict(X_test)\n",
    "print(\"Predicciones realizadas sobre el conjunto de prueba.\")\n",
    "print(\"Primeras 10 predicciones:\", y_pred[:10])"
   ]
  },
  {
   "cell_type": "markdown",
   "metadata": {},
   "source": [
    "**6. Evalúa el rendimiento del modelo calculando la precisión.**"
   ]
  },
  {
   "cell_type": "code",
   "execution_count": null,
   "metadata": {},
   "outputs": [],
   "source": [
    "# Tu código aquí\n",
    "accuracy = # ... calcular accuracy_score(y_test, y_pred)\n",
    "print(f\"Precisión (Accuracy) del modelo KNN: {accuracy:.4f}\")"
   ]
  },
  {
   "cell_type": "markdown",
   "metadata": {},
   "source": [
    "**7. (Opcional) Calcula e imprime la matriz de confusión y el reporte de clasificación.**"
   ]
  },
  {
   "cell_type": "code",
   "execution_count": null,
   "metadata": {},
   "outputs": [],
   "source": [
    "# Tu código aquí (opcional)\n",
    "conf_matrix = # ... calcular confusion_matrix(y_test, y_pred)\n",
    "class_report = # ... calcular classification_report(y_test, y_pred)\n",
    "\n",
    "print(\"\\nMatriz de Confusión:\")\n",
    "print(conf_matrix)\n",
    "\n",
    "print(\"\\nReporte de Clasificación:\")\n",
    "print(class_report)"
   ]
  }
 ],
 "metadata": {
  "kernelspec": {
   "display_name": "Python 3",
   "language": "python",
   "name": "python3"
  },
  "language_info": {
   "name": "python",
   "version": "3.x.y"
  }
 },
 "nbformat": 4,
 "nbformat_minor": 4
}