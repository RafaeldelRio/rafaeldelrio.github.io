{
 "cells": [
  {
   "cell_type": "markdown",
   "metadata": {},
   "source": [
    "# Ejercicio 2: Exploración de Datos con Pandas\n",
    "\n",
    "**Objetivo:** Aprender a cargar, inspeccionar y manipular datos tabulares usando Pandas."
   ]
  },
  {
   "cell_type": "markdown",
   "metadata": {},
   "source": [
    "**Librería:** `pandas`"
   ]
  },
  {
   "cell_type": "code",
   "execution_count": null,
   "metadata": {},
   "outputs": [],
   "source": [
    "# Importar Pandas\n",
    "import pandas as pd"
   ]
  },
  {
   "cell_type": "markdown",
   "metadata": {},
   "source": [
    "**1. Crea un DataFrame de Pandas a partir de un diccionario.**\n",
    "El diccionario debe contener al menos 3 columnas (p.ej., 'Nombre', 'Edad', 'Ciudad') y 4 filas de datos."
   ]
  },
  {
   "cell_type": "code",
   "execution_count": null,
   "metadata": {},
   "outputs": [],
   "source": [
    "# Tu código aquí\n",
    "datos_dict = { \n",
    "    'Nombre': [], # Añade nombres\n",
    "    'Edad': [],   # Añade edades\n",
    "    'Ciudad': []  # Añade ciudades\n",
    "}\n",
    "\n",
    "df_dict = # ... crear DataFrame desde datos_dict\n",
    "print(df_dict)"
   ]
  },
  {
   "cell_type": "markdown",
   "metadata": {},
   "source": [
    "**2. Descarga un archivo CSV sencillo y cárgalo en un DataFrame.**\n",
    "Usaremos el dataset Iris: [https://raw.githubusercontent.com/mwaskom/seaborn-data/master/iris.csv](https://raw.githubusercontent.com/mwaskom/seaborn-data/master/iris.csv)"
   ]
  },
  {
   "cell_type": "code",
   "execution_count": null,
   "metadata": {},
   "outputs": [],
   "source": [
    "# Tu código aquí\n",
    "url_iris = 'https://raw.githubusercontent.com/mwaskom/seaborn-data/master/iris.csv'\n",
    "df_iris = # ... cargar el CSV desde la url\n",
    "\n",
    "# Mostramos las primeras filas para verificar\n",
    "print(df_iris.head())"
   ]
  },
  {
   "cell_type": "markdown",
   "metadata": {},
   "source": [
    "**3. Muestra las primeras 5 filas (`head()`) y las últimas 5 filas (`tail()`) del DataFrame cargado.**"
   ]
  },
  {
   "cell_type": "code",
   "execution_count": null,
   "metadata": {},
   "outputs": [],
   "source": [
    "# Tu código aquí\n",
    "print(\"Primeras 5 filas:\")\n",
    "# ... mostrar head()\n",
    "\n",
    "print(\"\\nÚltimas 5 filas:\")\n",
    "# ... mostrar tail()"
   ]
  },
  {
   "cell_type": "markdown",
   "metadata": {},
   "source": [
    "**4. Obtén información general del DataFrame (`info()`) y estadísticas descriptivas (`describe()`).**"
   ]
  },
  {
   "cell_type": "code",
   "execution_count": null,
   "metadata": {},
   "outputs": [],
   "source": [
    "# Tu código aquí\n",
    "print(\"Información general:\")\n",
    "# ... mostrar info()\n",
    "\n",
    "print(\"\\nEstadísticas descriptivas:\")\n",
    "# ... mostrar describe()"
   ]
  },
  {
   "cell_type": "markdown",
   "metadata": {},
   "source": [
    "**5. Selecciona y muestra solo la columna 'species' del DataFrame Iris.**"
   ]
  },
  {
   "cell_type": "code",
   "execution_count": null,
   "metadata": {},
   "outputs": [],
   "source": [
    "# Tu código aquí\n",
    "columna_species = # ... seleccionar columna\n",
    "print(columna_species.head()) # Mostramos las primeras para no llenar la salida"
   ]
  },
  {
   "cell_type": "markdown",
   "metadata": {},
   "source": [
    "**6. Selecciona y muestra las filas donde la longitud del sépalo ('sepal_length') sea mayor que 5.0.**"
   ]
  },
  {
   "cell_type": "code",
   "execution_count": null,
   "metadata": {},
   "outputs": [],
   "source": [
    "# Tu código aquí\n",
    "filas_filtradas = # ... filtrar filas\n",
    "print(filas_filtradas.head()) # Mostramos las primeras"
   ]
  },
  {
   "cell_type": "markdown",
   "metadata": {},
   "source": [
    "**7. Calcula el número de muestras para cada especie ('species') usando `value_counts()`.**"
   ]
  },
  {
   "cell_type": "code",
   "execution_count": null,
   "metadata": {},
   "outputs": [],
   "source": [
    "# Tu código aquí\n",
    "conteo_especies = # ... usar value_counts()\n",
    "print(conteo_especies)"
   ]
  },
  {
   "cell_type": "markdown",
   "metadata": {},
   "source": [
    "**8. Calcula la media de 'sepal_width' para cada especie usando `groupby()`.**"
   ]
  },
  {
   "cell_type": "code",
   "execution_count": null,
   "metadata": {},
   "outputs": [],
   "source": [
    "# Tu código aquí\n",
    "media_sepal_width_por_especie = # ... usar groupby() y mean()\n",
    "print(media_sepal_width_por_especie)"
   ]
  }
 ],
 "metadata": {
  "kernelspec": {
   "display_name": "Python 3",
   "language": "python",
   "name": "python3"
  },
  "language_info": {
   "name": "python",
   "version": "3.x.y"
  }
 },
 "nbformat": 4,
 "nbformat_minor": 4
}