{
 "cells": [
  {
   "cell_type": "markdown",
   "metadata": {},
   "source": [
    "# Ejercicios Conceptuales - Módulo 6: Consideraciones Éticas y Próximos Pasos"
   ]
  },
  {
   "cell_type": "markdown",
   "metadata": {},
   "source": [
    "**Objetivo:** Reflexionar sobre las implicaciones éticas, los sesgos potenciales, las limitaciones y los desafíos (como los ataques adversarios) del uso de la IA/ML en ciberseguridad. Fomentar el pensamiento crítico sobre el uso responsable de estas tecnologías y explorar vías para el aprendizaje continuo."
   ]
  },
  {
   "cell_type": "markdown",
   "metadata": {},
   "source": [
    "## 1. Sesgos (Bias) en Datos y Algoritmos"
   ]
  },
  {
   "cell_type": "markdown",
   "metadata": {},
   "source": [
    "**Ejercicio 1.1: Sesgo Geográfico en IDS**\n",
    "\n",
    "Imagina un Sistema de Detección de Intrusiones (IDS) basado en ML que fue entrenado casi exclusivamente con datos de tráfico de red de grandes empresas tecnológicas en Norteamérica.\n",
    "\n",
    "1.  ¿Cómo podría este origen de datos introducir un **sesgo** en el modelo?\n",
    "2.  Si este IDS se despliega en una red hospitalaria en Europa o en una pequeña empresa en Asia, ¿qué tipo de errores podrían ser más frecuentes (Falsos Positivos o Falsos Negativos) para el tráfico de esas nuevas redes? ¿Por qué?\n",
    "3.  ¿Qué se podría hacer para mitigar este tipo de sesgo?"
   ]
  },
  {
   "cell_type": "markdown",
   "metadata": {},
   "source": [
    "**Escribe tu respuesta aquí:**\n",
    "\n",
    "1.  *El sesgo se introduce porque...*\n",
    "2.  *Podrían aumentar los (FP/FN)... debido a que...*\n",
    "3.  *Para mitigarlo, se podría...*"
   ]
  },
  {
   "cell_type": "markdown",
   "metadata": {},
   "source": [
    "**Ejercicio 1.2: Sesgo en Detección de Malware**\n",
    "\n",
    "Piensa en cómo se recopilan los datasets para entrenar modelos de clasificación de malware (malicioso/benigno). Describe un escenario donde el **proceso de recolección de datos** podría introducir un sesgo que afecte negativamente al rendimiento del modelo en el mundo real."
   ]
  },
  {
   "cell_type": "markdown",
   "metadata": {},
   "source": [
    "**Escribe tu respuesta aquí:**\n",
    "\n",
    "*Un ejemplo de sesgo en la recolección de datos de malware podría ser... Esto afectaría al modelo porque...*"
   ]
  },
  {
   "cell_type": "markdown",
   "metadata": {},
   "source": [
    "## 2. Interpretabilidad y Explicabilidad (XAI)"
   ]
  },
  {
   "cell_type": "markdown",
   "metadata": {},
   "source": [
    "**Ejercicio 2.1: El Modelo 'Caja Negra'**\n",
    "\n",
    "Un sistema avanzado de User Behavior Analytics (UBA) basado en Deep Learning marca a un empleado como una amenaza interna potencial basándose en sus patrones de actividad recientes, resultando en la suspensión temporal de sus accesos.\n",
    "\n",
    "1.  ¿Por qué es crucial para el equipo de seguridad (y quizás para el propio empleado) poder entender **por qué** el modelo tomó esa decisión? ¿Qué problemas surgen si el modelo es una 'caja negra' (black box) que no ofrece explicaciones?\n",
    "2.  Menciona al menos dos razones por las que la interpretabilidad de los modelos de IA/ML es especialmente importante en el dominio de la ciberseguridad."
   ]
  },
  {
   "cell_type": "markdown",
   "metadata": {},
   "source": [
    "**Escribe tu respuesta aquí:**\n",
    "\n",
    "1.  *Es crucial entender la decisión porque... Los problemas de una 'caja negra' son...*\n",
    "2.  *La interpretabilidad es importante en ciberseguridad porque: (a)... y (b)...*"
   ]
  },
  {
   "cell_type": "markdown",
   "metadata": {},
   "source": [
    "**Ejercicio 2.2: Búsqueda sobre XAI (Opcional)**\n",
    "\n",
    "Realiza una búsqueda rápida en internet sobre \"Explainable AI (XAI) libraries Python\". Menciona una o dos librerías que parezcan relevantes para entender cómo funcionan los modelos de ML (ej. SHAP, LIME). No necesitas usarlas, solo conocer su existencia."
   ]
  },
  {
   "cell_type": "markdown",
   "metadata": {},
   "source": [
    "**Escribe tu respuesta aquí:**\n",
    "\n",
    "*Algunas librerías de XAI en Python son: ...*"
   ]
  },
  {
   "cell_type": "markdown",
   "metadata": {},
   "source": [
    "## 3. Adversarial Machine Learning"
   ]
  },
  {
   "cell_type": "markdown",
   "metadata": {},
   "source": [
    "**Ejercicio 3.1: Ataques de Evasión**\n",
    "\n",
    "Imagina un modelo de ML que detecta URLs de phishing basándose en características como la longitud de la URL, el número de subdominios, la presencia de palabras clave sospechosas ('login', 'secure', 'update'), etc.\n",
    "\n",
    "Describe **dos formas** en las que un atacante podría intentar modificar una URL de phishing para **evadir** la detección por este modelo, es decir, hacer que el modelo la clasifique incorrectamente como 'legítima'."
   ]
  },
  {
   "cell_type": "markdown",
   "metadata": {},
   "source": [
    "**Escribe tu respuesta aquí:**\n",
    "\n",
    "1.  *Forma 1 de evasión: ...*\n",
    "2.  *Forma 2 de evasión: ...*"
   ]
  },
  {
   "cell_type": "markdown",
   "metadata": {},
   "source": [
    "**Ejercicio 3.2: Ataques de Envenenamiento (Poisoning)**\n",
    "\n",
    "Explica brevemente, con tus palabras, en qué consiste un ataque de **envenenamiento de datos** (data poisoning) contra un modelo de ML. ¿En qué etapa del ciclo de vida del ML ocurre este tipo de ataque?"
   ]
  },
  {
   "cell_type": "markdown",
   "metadata": {},
   "source": [
    "**Escribe tu respuesta aquí:**\n",
    "\n",
    "*Un ataque de envenenamiento consiste en... Ocurre durante la etapa de...*"
   ]
  },
  {
   "cell_type": "markdown",
   "metadata": {},
   "source": [
    "**Ejercicio 3.3: Conciencia sobre Herramientas (Opcional)**\n",
    "\n",
    "Existen librerías diseñadas para investigar y defenderse contra ataques adversarios. Una de las más conocidas es **ART (Adversarial Robustness Toolbox)** de IBM. Puedes buscarla online para tener una idea de su propósito (no es necesario instalarla ni usarla ahora)."
   ]
  },
  {
   "cell_type": "code",
   "execution_count": null,
   "metadata": {},
   "outputs": [],
   "source": [
    "# No hay código que ejecutar aquí, solo tomar nota de la existencia de herramientas como ART.\n",
    "print(\"Para saber más, busca: 'IBM Adversarial Robustness Toolbox (ART)'\")"
   ]
  },
  {
   "cell_type": "markdown",
   "metadata": {},
   "source": [
    "## 4. Limitaciones de AI/ML en Ciberseguridad"
   ]
  },
  {
   "cell_type": "markdown",
   "metadata": {},
   "source": [
    "**Ejercicio 4.1: Identificando Límites**\n",
    "\n",
    "Más allá de los sesgos y los ataques adversarios, menciona y describe brevemente **otras dos limitaciones** importantes del uso actual de AI/ML en ciberseguridad."
   ]
  },
  {
   "cell_type": "markdown",
   "metadata": {},
   "source": [
    "**Escribe tu respuesta aquí:**\n",
    "\n",
    "1.  *Limitación 1: ... (Descripción: ...)*\n",
    "2.  *Limitación 2: ... (Descripción: ...)* \n",
    "    *(Ideas: Dependencia de grandes volúmenes de datos etiquetados, dificultad con ataques zero-day o cambios rápidos de tácticas, necesidad de poder computacional, dificultad para incorporar contexto complejo o conocimiento experto, generación potencial de fatiga por alertas si no se ajusta bien, necesidad de supervisión humana)*"
   ]
  },
  {
   "cell_type": "markdown",
   "metadata": {},
   "source": [
    "**Ejercicio 4.2: ¿Reemplazo o Colaboración?**\n",
    "\n",
    "Considerando las capacidades y limitaciones actuales, ¿crees que la IA/ML está destinada a **reemplazar** completamente a los analistas humanos de ciberseguridad en el futuro cercano? Argumenta brevemente tu posición, considerando si el rol podría ser más de **colaboración**."
   ]
  },
  {
   "cell_type": "markdown",
   "metadata": {},
   "source": [
    "**Escribe tu respuesta aquí:**\n",
    "\n",
    "*Creo que la IA/ML (reemplazará / no reemplazará / colaborará)... porque...*"
   ]
  },
  {
   "cell_type": "markdown",
   "metadata": {},
   "source": [
    "## 5. Ética y Responsabilidad"
   ]
  },
  {
   "cell_type": "markdown",
   "metadata": {},
   "source": [
    "**Ejercicio 5.1: Dilema Ético - Vigilancia vs. Privacidad**\n",
    "\n",
    "Una empresa implementa una herramienta de IA muy avanzada para prevenir fugas de información y detectar amenazas internas. Esta herramienta monitoriza y analiza en tiempo real *todo* el contenido de los correos electrónicos, mensajes de chat internos y actividad de navegación web de *todos* los empleados. La herramienta demuestra ser muy eficaz para reducir incidentes de seguridad.\n",
    "\n",
    "1.  ¿Cuáles son los principales **beneficios** de seguridad de esta herramienta?\n",
    "2.  ¿Cuáles son las principales **preocupaciones éticas** y de **privacidad**?\n",
    "3.  Si fueras el CISO (Chief Information Security Officer) de la empresa, ¿qué medidas o controles intentarías implementar para equilibrar la seguridad con la ética y la privacidad en este escenario?"
   ]
  },
  {
   "cell_type": "markdown",
   "metadata": {},
   "source": [
    "**Escribe tu respuesta aquí:**\n",
    "\n",
    "1.  *Beneficios: ...*\n",
    "2.  *Preocupaciones éticas/privacidad: ...*\n",
    "3.  *Medidas/Controles para equilibrar: ...*"
   ]
  },
  {
   "cell_type": "markdown",
   "metadata": {},
   "source": [
    "## 6. Próximos Pasos y Aprendizaje Continuo"
   ]
  },
  {
   "cell_type": "markdown",
   "metadata": {},
   "source": [
    "**Ejercicio 6.1: Búsqueda de Recursos**\n",
    "\n",
    "El campo de la IA/ML en ciberseguridad evoluciona rápidamente. Para mantenerte actualizado:\n",
    "\n",
    "1.  Busca en internet y menciona el nombre de **una conferencia** relevante donde se presenten trabajos sobre IA/ML aplicada a la seguridad.\n",
    "2.  Busca y menciona el nombre de **un blog o sitio web** reputado que publique regularmente artículos sobre este tema.\n",
    "3.  Busca y menciona **un área específica** dentro de IA/ML para seguridad que te interese explorar más a fondo (ej. detección de anomalías en red, análisis de malware con deep learning, NLP para threat intelligence, etc.)."
   ]
  },
  {
   "cell_type": "markdown",
   "metadata": {},
   "source": [
    "**Escribe tu respuesta aquí:**\n",
    "\n",
    "1.  *Conferencia: ...*\n",
    "2.  *Blog/Sitio Web: ...*\n",
    "3.  *Área de interés: ...*"
   ]
  },
  {
   "cell_type": "markdown",
   "metadata": {},
   "source": [
    "--- \n",
    "¡Felicidades por llegar al final del curso! Has cubierto desde los fundamentos de Python hasta la aplicación práctica y las consideraciones críticas de IA/ML en ciberseguridad. Esperamos que este módulo final te haya hecho reflexionar sobre la importancia de usar estas poderosas herramientas de manera responsable y te haya motivado a seguir aprendiendo en este campo tan dinámico."
   ]
  }
 ],
 "metadata": {
  "kernelspec": {
   "display_name": "Python 3 (ipykernel)",
   "language": "python",
   "name": "python3"
  },
  "language_info": {
   "codemirror_mode": {
    "name": "ipython",
    "version": 3
   },
   "file_extension": ".py",
   "mimetype": "text/x-python",
   "name": "python",
   "nbconvert_exporter": "python",
   "pygments_lexer": "ipython3",
   "version": "3.12.3"
  }
 },
 "nbformat": 4,
 "nbformat_minor": 4
}
