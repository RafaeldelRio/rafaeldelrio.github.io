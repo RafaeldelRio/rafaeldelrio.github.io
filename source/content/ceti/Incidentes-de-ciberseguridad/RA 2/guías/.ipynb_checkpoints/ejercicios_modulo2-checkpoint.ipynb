{
    "cells": [
     {
      "cell_type": "markdown",
      "metadata": {},
      "source": [
       "# Ejercicios Prácticos - Módulo 2: Manipulación de Datos con NumPy y Pandas"
      ]
     },
     {
      "cell_type": "markdown",
      "metadata": {},
      "source": [
       "**Objetivo:** Afianzar el uso de NumPy para operaciones numéricas y Pandas para la manipulación y análisis de datos tabulares. Introducción a la visualización básica con Matplotlib/Seaborn."
      ]
     },
     {
      "cell_type": "markdown",
      "metadata": {},
      "source": [
       "## Preparación: Importar Librerías"
      ]
     },
     {
      "cell_type": "code",
      "execution_count": null,
      "metadata": {},
      "outputs": [],
      "source": [
       "# Importa las librerías necesarias\n",
       "import numpy as np\n",
       "import pandas as pd\n",
       "import matplotlib.pyplot as plt\n",
       "import seaborn as sns\n",
       "from io import StringIO # Para simular archivos CSV\n",
       "\n",
       "# Configuraciones opcionales para mejor visualización\n",
       "%matplotlib inline \n",
       "pd.set_option('display.max_rows', 100) # Mostrar más filas si es necesario\n",
       "sns.set_style('whitegrid')"
      ]
     },
     {
      "cell_type": "markdown",
      "metadata": {},
      "source": [
       "## Parte 1: NumPy Básico"
      ]
     },
     {
      "cell_type": "markdown",
      "metadata": {},
      "source": [
       "**Ejercicio 1.1: Creación de Arrays**\n",
       "* Crea un array de NumPy llamado `tiempos_respuesta` a partir de la siguiente lista de Python, que representa tiempos de respuesta de un servidor en milisegundos: `[120, 135, 128, 140, 150, 133, 122]`.\n",
       "* Crea un array de NumPy llamado `vulnerabilidades` con 5 puntuaciones de criticidad (números flotantes) entre 0.0 y 10.0 (puedes inventarlos, ej: `[7.5, 3.2, 8.9, 5.0, 9.8]`).\n",
       "* Imprime ambos arrays y sus tipos (`.dtype`)."
      ]
     },
     {
      "cell_type": "code",
      "execution_count": null,
      "metadata": {},
      "outputs": [],
      "source": [
       "# Escribe tu código para el Ejercicio 1.1 aquí\n",
       "\n"
      ]
     },
     {
      "cell_type": "markdown",
      "metadata": {},
      "source": [
       "**Ejercicio 1.2: Operaciones Vectorizadas**\n",
       "* Convierte los `tiempos_respuesta` (del ejercicio 1.1) de milisegundos a segundos dividiendo el array por 1000. Guarda el resultado en `tiempos_respuesta_seg`.\n",
       "* \"Normaliza\" las puntuaciones de `vulnerabilidades` dividiendo cada puntuación por 10.0 (para que estén entre 0 y 1). Guarda el resultado en `vulnerabilidades_norm`.\n",
       "* Imprime los nuevos arrays."
      ]
     },
     {
      "cell_type": "code",
      "execution_count": null,
      "metadata": {},
      "outputs": [],
      "source": [
       "# Escribe tu código para el Ejercicio 1.2 aquí\n",
       "# Asegúrate de tener los arrays del ejercicio anterior\n",
       "tiempos_respuesta = np.array([120, 135, 128, 140, 150, 133, 122])\n",
       "vulnerabilidades = np.array([7.5, 3.2, 8.9, 5.0, 9.8])\n",
       "\n"
      ]
     },
     {
      "cell_type": "markdown",
      "metadata": {},
      "source": [
       "**Ejercicio 1.3: Indexing y Slicing**\n",
       "* Imprime el primer y el último tiempo de respuesta del array `tiempos_respuesta`.\n",
       "* Imprime los tiempos de respuesta desde el segundo hasta el cuarto elemento (inclusive).\n",
       "* Imprime todas las puntuaciones de `vulnerabilidades` que sean mayores o iguales a 7.0 (usa boolean indexing)."
      ]
     },
     {
      "cell_type": "code",
      "execution_count": null,
      "metadata": {},
      "outputs": [],
      "source": [
       "# Escribe tu código para el Ejercicio 1.3 aquí\n",
       "# Asegúrate de tener los arrays del ejercicio anterior\n",
       "\n"
      ]
     },
     {
      "cell_type": "markdown",
      "metadata": {},
      "source": [
       "**Ejercicio 1.4: Funciones Matemáticas Básicas**\n",
       "* Calcula e imprime el tiempo de respuesta medio, mínimo y máximo del array `tiempos_respuesta` usando funciones de NumPy (`np.mean()`, `np.min()`, `np.max()`)."
      ]
     },
     {
      "cell_type": "code",
      "execution_count": null,
      "metadata": {},
      "outputs": [],
      "source": [
       "# Escribe tu código para el Ejercicio 1.4 aquí\n",
       "# Asegúrate de tener el array tiempos_respuesta\n",
       "\n"
      ]
     },
     {
      "cell_type": "markdown",
      "metadata": {},
      "source": [
       "## Parte 2: Pandas Series"
      ]
     },
     {
      "cell_type": "markdown",
      "metadata": {},
      "source": [
       "**Ejercicio 2.1: Creación de Series**\n",
       "* Crea una Serie de Pandas llamada `intentos_fallidos` a partir de la lista `[5, 10, 3, 1, 8]`, usando como índice los nombres de usuario `['admin', 'guest', 'root', 'user1', 'test']`.\n",
       "* Imprime la Serie."
      ]
     },
     {
      "cell_type": "code",
      "execution_count": null,
      "metadata": {},
      "outputs": [],
      "source": [
       "# Escribe tu código para el Ejercicio 2.1 aquí\n",
       "\n"
      ]
     },
     {
      "cell_type": "markdown",
      "metadata": {},
      "source": [
       "**Ejercicio 2.2: Acceso a Elementos**\n",
       "* Usando la Serie `intentos_fallidos`:\n",
       "    * Imprime el número de intentos fallidos del usuario 'admin'.\n",
       "    * Imprime el número de intentos fallidos del segundo usuario (usando acceso posicional).\n",
       "    * Imprime los intentos fallidos de 'guest' y 'test' al mismo tiempo."
      ]
     },
     {
      "cell_type": "code",
      "execution_count": null,
      "metadata": {},
      "outputs": [],
      "source": [
       "# Escribe tu código para el Ejercicio 2.2 aquí\n",
       "# Asegúrate de tener la Serie intentos_fallidos definida\n",
       "usuarios = ['admin', 'guest', 'root', 'user1', 'test']\n",
       "datos_intentos = [5, 10, 3, 1, 8]\n",
       "intentos_fallidos = pd.Series(datos_intentos, index=usuarios)\n",
       "\n"
      ]
     },
     {
      "cell_type": "markdown",
      "metadata": {},
      "source": [
       "**Ejercicio 2.3: Operaciones y Filtrado**\n",
       "* Usando la Serie `intentos_fallidos`:\n",
       "    * Imprime los usuarios que tuvieron más de 4 intentos fallidos.\n",
       "    * Incrementa en 1 el número de intentos fallidos para todos los usuarios e imprime la Serie resultante."
      ]
     },
     {
      "cell_type": "code",
      "execution_count": null,
      "metadata": {},
      "outputs": [],
      "source": [
       "# Escribe tu código para el Ejercicio 2.3 aquí\n",
       "# Asegúrate de tener la Serie intentos_fallidos definida\n",
       "\n"
      ]
     },
     {
      "cell_type": "markdown",
      "metadata": {},
      "source": [
       "## Parte 3: Pandas DataFrames"
      ]
     },
     {
      "cell_type": "markdown",
      "metadata": {},
      "source": [
       "**Ejercicio 3.1: Creación de DataFrame desde Diccionario**\n",
       "* Crea un DataFrame de Pandas llamado `df_logs` a partir del siguiente diccionario, simulando logs de acceso:\n",
       "```python\n",
       "data = {\n",
       "    'timestamp': ['2025-04-15 20:00:01', '2025-04-15 20:01:15', '2025-04-15 20:01:30', '2025-04-15 20:02:05', '2025-04-15 20:03:10'],\n",
       "    'usuario': ['user1', 'admin', 'user1', 'guest', 'admin'],\n",
       "    'ip_origen': ['192.168.1.10', '10.0.0.5', '192.168.1.10', '203.0.113.1', '10.0.0.5'],\n",
       "    'accion': ['login_success', 'login_success', 'file_access', 'login_failed', 'logout']\n",
       "}\n",
       "```\n",
       "* Imprime el DataFrame."
      ]
     },
     {
      "cell_type": "code",
      "execution_count": null,
      "metadata": {},
      "outputs": [],
      "source": [
       "# Escribe tu código para el Ejercicio 3.1 aquí\n",
       "data = {\n",
       "    'timestamp': ['2025-04-15 20:00:01', '2025-04-15 20:01:15', '2025-04-15 20:01:30', '2025-04-15 20:02:05', '2025-04-15 20:03:10'],\n",
       "    'usuario': ['user1', 'admin', 'user1', 'guest', 'admin'],\n",
       "    'ip_origen': ['192.168.1.10', '10.0.0.5', '192.168.1.10', '203.0.113.1', '10.0.0.5'],\n",
       "    'accion': ['login_success', 'login_success', 'file_access', 'login_failed', 'logout']\n",
       "}\n",
       "\n",
       "df_logs = pd.DataFrame(data)\n",
       "print(df_logs)"
      ]
     },
     {
      "cell_type": "markdown",
      "metadata": {},
      "source": [
       "**Ejercicio 3.2: Simulación de Lectura de CSV**\n",
       "* Tenemos los siguientes datos simulados de un archivo CSV:\n",
       "```csv_data\n",
       "timestamp,source_ip,dest_ip,port,protocol,action\n",
       "2025-04-15 21:00:00,192.168.1.50,10.0.0.80,80,TCP,ALLOW\n",
       "2025-04-15 21:00:05,192.168.1.55,10.0.0.81,443,TCP,ALLOW\n",
       "2025-04-15 21:00:10,192.168.1.50,10.0.0.80,123,UDP,DENY\n",
       "2025-04-15 21:00:15,192.168.1.60,8.8.8.8,53,UDP,ALLOW\n",
       "2025-04-15 21:00:20,192.168.1.55,10.0.0.81,443,TCP,ALLOW\n",
       "```\n",
       "* Usa `pd.read_csv()` junto con `StringIO()` (importado al principio) para leer estos datos en un DataFrame llamado `df_traffic`.\n",
       "* Imprime el DataFrame."
      ]
     },
     {
      "cell_type": "code",
      "execution_count": null,
      "metadata": {},
      "outputs": [],
      "source": [
       "# Escribe tu código para el Ejercicio 3.2 aquí\n",
       "csv_data = \"\"\"\n",
       "timestamp,source_ip,dest_ip,port,protocol,action\n",
       "2025-04-15 21:00:00,192.168.1.50,10.0.0.80,80,TCP,ALLOW\n",
       "2025-04-15 21:00:05,192.168.1.55,10.0.0.81,443,TCP,ALLOW\n",
       "2025-04-15 21:00:10,192.168.1.50,10.0.0.80,123,UDP,DENY\n",
       "2025-04-15 21:00:15,192.168.1.60,8.8.8.8,53,UDP,ALLOW\n",
       "2025-04-15 21:00:20,192.168.1.55,10.0.0.81,443,TCP,ALLOW\n",
       "\"\"\"\n",
       "\n",
       "# Lee los datos usando pd.read_csv y StringIO\n",
       "df_traffic = pd.read_csv(StringIO(csv_data))\n",
       "print(df_traffic)\n"
      ]
     },
     {
      "cell_type": "markdown",
      "metadata": {},
      "source": [
       "**Ejercicio 3.3: Inspección Básica**\n",
       "* Usando el DataFrame `df_traffic` del ejercicio anterior:\n",
       "    * Muestra las primeras 3 filas (`.head()`).\n",
       "    * Muestra las últimas 2 filas (`.tail()`).\n",
       "    * Muestra información general del DataFrame (`.info()`). ¿Qué tipo de datos tiene cada columna?\n",
       "    * Muestra un resumen estadístico (si aplica, `.describe()`).\n",
       "    * Muestra los nombres de las columnas (`.columns`).\n",
       "    * Muestra las dimensiones del DataFrame (`.shape`)."
      ]
     },
     {
      "cell_type": "code",
      "execution_count": null,
      "metadata": {},
      "outputs": [],
      "source": [
       "# Escribe tu código para el Ejercicio 3.3 aquí\n",
       "# Asegúrate de tener df_traffic definido\n",
       "\n"
      ]
     },
     {
      "cell_type": "markdown",
      "metadata": {},
      "source": [
       "**Ejercicio 3.4: Selección de Columnas**\n",
       "* Usando `df_traffic`:\n",
       "    * Selecciona e imprime únicamente la columna 'source_ip'.\n",
       "    * Selecciona e imprime las columnas 'timestamp', 'source_ip' y 'action'."
      ]
     },
     {
      "cell_type": "code",
      "execution_count": null,
      "metadata": {},
      "outputs": [],
      "source": [
       "# Escribe tu código para el Ejercicio 3.4 aquí\n",
       "# Asegúrate de tener df_traffic definido\n",
       "\n"
      ]
     },
     {
      "cell_type": "markdown",
      "metadata": {},
      "source": [
       "**Ejercicio 3.5: Selección de Filas (`.loc` y `.iloc`)**\n",
       "* Usando `df_traffic`:\n",
       "    * Selecciona e imprime la primera fila usando `.iloc`.\n",
       "    * Selecciona e imprime las filas con índice 1 y 3 usando `.iloc`.\n",
       "    * Selecciona e imprime la fila con índice 2 usando `.loc`.\n",
       "    * Selecciona e imprime las filas con índice 0 a 2 (inclusive) usando `.loc`."
      ]
     },
     {
      "cell_type": "code",
      "execution_count": null,
      "metadata": {},
      "outputs": [],
      "source": [
       "# Escribe tu código para el Ejercicio 3.5 aquí\n",
       "# Asegúrate de tener df_traffic definido\n",
       "\n"
      ]
     },
     {
      "cell_type": "markdown",
      "metadata": {},
      "source": [
       "**Ejercicio 3.6: Filtrado de Filas (Boolean Indexing)**\n",
       "* Usando `df_traffic`:\n",
       "    * Selecciona e imprime todas las filas donde la acción ('action') sea 'DENY'.\n",
       "    * Selecciona e imprime todas las filas donde el puerto ('port') sea 443.\n",
       "    * Selecciona e imprime todas las filas donde la IP origen ('source_ip') sea '192.168.1.55'.\n",
       "    * Selecciona e imprime todas las filas donde el protocolo sea 'TCP' **Y** la acción sea 'ALLOW'."
      ]
     },
     {
      "cell_type": "code",
      "execution_count": null,
      "metadata": {},
      "outputs": [],
      "source": [
       "# Escribe tu código para el Ejercicio 3.6 aquí\n",
       "# Asegúrate de tener df_traffic definido\n",
       "\n"
      ]
     },
     {
      "cell_type": "markdown",
      "metadata": {},
      "source": [
       "## Parte 4: Limpieza Básica de Datos"
      ]
     },
     {
      "cell_type": "markdown",
      "metadata": {},
      "source": [
       "**Ejercicio 4.1: Manejo de Nulos (NaN)**\n",
       "* Vamos a crear un DataFrame con algunos valores faltantes:\n",
       "```python\n",
       "data_vuls = {\n",
       "    'cve_id': ['CVE-2025-001', 'CVE-2025-002', 'CVE-2025-003', 'CVE-2025-004', 'CVE-2025-005'],\n",
       "    'producto': ['WebServer', 'Database', 'WebServer', 'OS', 'Database'],\n",
       "    'puntuacion': [9.8, 7.5, np.nan, 5.0, 7.5],\n",
       "    'vector': ['AV:N/AC:L/PR:N/UI:N/S:U/C:H/I:H/A:H', np.nan, 'AV:N/AC:L/PR:L/UI:N/S:U/C:H/I:N/A:N', 'AV:L/AC:H/PR:L/UI:R/S:C/C:L/I:L/A:N', np.nan]\n",
       "}\n",
       "df_vuls = pd.DataFrame(data_vuls)\n",
       "```\n",
       "* Imprime el DataFrame `df_vuls`.\n",
       "* Cuenta cuántos valores nulos hay en cada columna (`.isnull().sum()`).\n",
       "* Crea un nuevo DataFrame `df_vuls_filled` donde los NaN en la columna 'puntuacion' se reemplacen por la media de esa columna (`.fillna()`).\n",
       "* Crea un nuevo DataFrame `df_vuls_dropped` donde se eliminen las filas que contengan cualquier valor NaN (`.dropna()`).\n",
       "* Imprime `df_vuls_filled` y `df_vuls_dropped`."
      ]
     },
     {
      "cell_type": "code",
      "execution_count": null,
      "metadata": {},
      "outputs": [],
      "source": [
       "# Escribe tu código para el Ejercicio 4.1 aquí\n",
       "data_vuls = {\n",
       "    'cve_id': ['CVE-2025-001', 'CVE-2025-002', 'CVE-2025-003', 'CVE-2025-004', 'CVE-2025-005'],\n",
       "    'producto': ['WebServer', 'Database', 'WebServer', 'OS', 'Database'],\n",
       "    'puntuacion': [9.8, 7.5, np.nan, 5.0, 7.5],\n",
       "    'vector': ['AV:N/AC:L/PR:N/UI:N/S:U/C:H/I:H/A:H', np.nan, 'AV:N/AC:L/PR:L/UI:N/S:U/C:H/I:N/A:N', 'AV:L/AC:H/PR:L/UI:R/S:C/C:L/I:L/A:N', np.nan]\n",
       "}\n",
       "df_vuls = pd.DataFrame(data_vuls)\n",
       "\n",
       "print(\"DataFrame Original:\")\n",
       "print(df_vuls)\n",
       "print(\"\\nValores Nulos por Columna:\")\n",
       "# Cuenta nulos aquí\n",
       "\n",
       "# Rellena nulos en 'puntuacion' aquí\n",
       "# df_vuls_filled = ...\n",
       "# print(\"\\nDataFrame con Nulos Rellenos:\")\n",
       "# print(df_vuls_filled)\n",
       "\n",
       "# Elimina filas con nulos aquí\n",
       "# df_vuls_dropped = ...\n",
       "# print(\"\\nDataFrame con Filas Nulas Eliminadas:\")\n",
       "# print(df_vuls_dropped)\n"
      ]
     },
     {
      "cell_type": "markdown",
      "metadata": {},
      "source": [
       "**Ejercicio 4.2: Manejo de Duplicados**\n",
       "* Considera el DataFrame `df_traffic` del ejercicio 3.2. Ya tenía una fila duplicada (índices 1 y 4).\n",
       "* Encuentra las filas duplicadas en `df_traffic` usando `.duplicated()`. ¿Qué resultado te da?\n",
       "* Crea un nuevo DataFrame `df_traffic_unique` eliminando las filas duplicadas de `df_traffic` usando `.drop_duplicates()`. Conserva la primera aparición.\n",
       "* Imprime `df_traffic_unique` y verifica su tamaño (`.shape`)."
      ]
     },
     {
      "cell_type": "code",
      "execution_count": null,
      "metadata": {},
      "outputs": [],
      "source": [
       "# Escribe tu código para el Ejercicio 4.2 aquí\n",
       "# Asegúrate de tener df_traffic definido\n",
       "\n",
       "# Encuentra duplicados aquí\n",
       "\n",
       "# Elimina duplicados aquí\n",
       "# df_traffic_unique = ...\n",
       "\n",
       "# Imprime el resultado\n"
      ]
     },
     {
      "cell_type": "markdown",
      "metadata": {},
      "source": [
       "## Parte 5: Agrupación y Agregación (`.groupby()`)"
      ]
     },
     {
      "cell_type": "markdown",
      "metadata": {},
      "source": [
       "**Ejercicio 5.1: Agrupar y Contar**\n",
       "* Usando el DataFrame `df_logs` (del ejercicio 3.1):\n",
       "    * Agrupa los logs por 'usuario' y cuenta cuántas acciones realizó cada uno (`.size()` o `.count()`).\n",
       "    * Agrupa los logs por 'accion' y cuenta cuántas veces ocurrió cada acción.\n",
       "    * Agrupa los logs por 'ip_origen' y cuenta cuántas acciones provinieron de cada IP."
      ]
     },
     {
      "cell_type": "code",
      "execution_count": null,
      "metadata": {},
      "outputs": [],
      "source": [
       "# Escribe tu código para el Ejercicio 5.1 aquí\n",
       "# Asegúrate de tener df_logs definido\n",
       "data = {\n",
       "    'timestamp': ['2025-04-15 20:00:01', '2025-04-15 20:01:15', '2025-04-15 20:01:30', '2025-04-15 20:02:05', '2025-04-15 20:03:10'],\n",
       "    'usuario': ['user1', 'admin', 'user1', 'guest', 'admin'],\n",
       "    'ip_origen': ['192.168.1.10', '10.0.0.5', '192.168.1.10', '203.0.113.1', '10.0.0.5'],\n",
       "    'accion': ['login_success', 'login_success', 'file_access', 'login_failed', 'logout']\n",
       "}\n",
       "df_logs = pd.DataFrame(data)\n",
       "\n",
       "# Agrupa por usuario y cuenta\n",
       "\n",
       "# Agrupa por acción y cuenta\n",
       "\n",
       "# Agrupa por IP y cuenta\n"
      ]
     },
     {
      "cell_type": "markdown",
      "metadata": {},
      "source": [
       "**Ejercicio 5.2: Agrupar con Múltiples Columnas**\n",
       "* Usando el DataFrame `df_logs`:\n",
       "    * Agrupa por 'usuario' y 'ip_origen' simultáneamente y cuenta las ocurrencias."
      ]
     },
     {
      "cell_type": "code",
      "execution_count": null,
      "metadata": {},
      "outputs": [],
      "source": [
       "# Escribe tu código para el Ejercicio 5.2 aquí\n",
       "# Asegúrate de tener df_logs definido\n",
       "\n"
      ]
     },
     {
      "cell_type": "markdown",
      "metadata": {},
      "source": [
       "## Parte 6: Visualización Básica"
      ]
     },
     {
      "cell_type": "markdown",
      "metadata": {},
      "source": [
       "**Ejercicio 6.1: Histograma**\n",
       "* Usando el DataFrame `df_traffic` (el original o el `df_traffic_unique`):\n",
       "    * Crea un histograma de la columna 'port' usando `.plot(kind='hist')` o `plt.hist()`.\n",
       "    * Añade un título al gráfico."
      ]
     },
     {
      "cell_type": "code",
      "execution_count": null,
      "metadata": {},
      "outputs": [],
      "source": [
       "# Escribe tu código para el Ejercicio 6.1 aquí\n",
       "# Asegúrate de tener df_traffic o df_traffic_unique definido\n",
       "plt.figure(figsize=(8, 4)) # Opcional: ajustar tamaño\n",
       "\n",
       "# Crea el histograma aquí\n",
       "\n",
       "plt.title('Distribución de Puertos Utilizados')\n",
       "plt.xlabel('Puerto')\n",
       "plt.ylabel('Frecuencia')\n",
       "plt.show()\n"
      ]
     },
     {
      "cell_type": "markdown",
      "metadata": {},
      "source": [
       "**Ejercicio 6.2: Gráfico de Barras**\n",
       "* Usando el DataFrame `df_logs`:\n",
       "    * Calcula la cuenta de cada 'accion' (puedes usar `.value_counts()` o `.groupby().size()`).\n",
       "    * Crea un gráfico de barras de las cuentas de acciones usando `.plot(kind='bar')`.\n",
       "    * Añade un título y etiquetas a los ejes."
      ]
     },
     {
      "cell_type": "code",
      "execution_count": null,
      "metadata": {},
      "outputs": [],
      "source": [
       "# Escribe tu código para el Ejercicio 6.2 aquí\n",
       "# Asegúrate de tener df_logs definido\n",
       "plt.figure(figsize=(8, 5))\n",
       "\n",
       "# Calcula las cuentas de acciones aquí\n",
       "# action_counts = ...\n",
       "\n",
       "# Crea el gráfico de barras aquí\n",
       "# action_counts.plot(kind='bar', ...) \n",
       "\n",
       "plt.title('Número de Ocurrencias por Acción')\n",
       "plt.xlabel('Acción')\n",
       "plt.ylabel('Número de Ocurrencias')\n",
       "plt.xticks(rotation=45) # Rotar etiquetas si son largas\n",
       "plt.tight_layout() # Ajustar layout\n",
       "plt.show()\n"
      ]
     },
     {
      "cell_type": "markdown",
      "metadata": {},
      "source": [
       "--- \n",
       "¡Excelente! Has practicado los fundamentos de NumPy y Pandas, esenciales para cualquier tarea de análisis de datos y Machine Learning. Estás listo/a para el siguiente módulo."
      ]
     }
    ],
    "metadata": {
     "kernelspec": {
      "display_name": "Python 3 (ipykernel)",
      "language": "python",
      "name": "python3"
     },
     "language_info": {
      "codemirror_mode": {
       "name": "ipython",
       "version": 3
      },
      "file_extension": ".py",
      "mimetype": "text/x-python",
      "name": "python",
      "nbconvert_exporter": "python",
      "pygments_lexer": "ipython3",
      "version": "3.9.12"
     }
    },
    "nbformat": 4,
    "nbformat_minor": 4
   }