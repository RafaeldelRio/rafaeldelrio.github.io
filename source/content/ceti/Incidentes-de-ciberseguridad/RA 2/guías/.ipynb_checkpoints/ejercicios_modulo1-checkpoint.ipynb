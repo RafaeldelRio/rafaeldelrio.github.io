{
 "cells": [
  {
   "cell_type": "markdown",
   "metadata": {},
   "source": [
    "# Ejercicios Básicos - Módulo 1: Fundamentos de Python"
   ]
  },
  {
   "cell_type": "markdown",
   "metadata": {},
   "source": [
    "**Entorno recomendado:** Jupyter Notebook, Google Colab, o un IDE simple con una consola interactiva."
   ]
  },
  {
   "cell_type": "markdown",
   "metadata": {},
   "source": [
    "## 1. Variables y Tipos de Datos"
   ]
  },
  {
   "cell_type": "markdown",
   "metadata": {},
   "source": [
    "**Ejercicio 1.1 (Variables y Strings):**\n",
    "* Crea una variable llamada `nombre_usuario` y asígnale tu nombre como un string.\n",
    "* Crea otra variable `mensaje_bienvenida` que contenga el string \"Bienvenido al sistema, \".\n",
    "* Imprime por pantalla la concatenación del mensaje de bienvenida y el nombre de usuario.\n",
    "\n",
    "*Concepto:* Variables, Strings, Concatenación, `print()`."
   ]
  },
  {
   "cell_type": "code",
   "execution_count": null,
   "metadata": {},
   "outputs": [],
   "source": [
    "# Escribe tu código para el Ejercicio 1.1 aquí\n",
    "\n"
   ]
  },
  {
   "cell_type": "markdown",
   "metadata": {},
   "source": [
    "**Ejercicio 1.2 (Números y Booleanos):**\n",
    "* Crea una variable `intentos_login` y asígnale el valor entero `3`.\n",
    "* Crea una variable `max_intentos` y asígnale el valor `5`.\n",
    "* Crea una variable booleana `sesion_activa` y asígnale `False`.\n",
    "* Imprime el tipo de cada una de estas variables usando la función `type()`.\n",
    "\n",
    "*Concepto:* Variables, Integers, Booleans, `type()`."
   ]
  },
  {
   "cell_type": "code",
   "execution_count": null,
   "metadata": {},
   "outputs": [],
   "source": [
    "# Escribe tu código para el Ejercicio 1.2 aquí\n",
    "\n"
   ]
  },
  {
   "cell_type": "markdown",
   "metadata": {},
   "source": [
    "**Ejercicio 1.3 (Listas):**\n",
    "* Crea una lista llamada `ips_permitidas` que contenga las siguientes direcciones IP (como strings): \"192.168.1.1\", \"10.0.0.5\", \"8.8.8.8\".\n",
    "* Imprime la lista completa.\n",
    "* Imprime el segundo elemento de la lista (recordar que el índice empieza en 0).\n",
    "* Añade la IP \"192.168.1.100\" al final de la lista.\n",
    "* Imprime la lista modificada.\n",
    "\n",
    "*Concepto:* Listas (creación, acceso por índice, añadir elementos con `append()`)."
   ]
  },
  {
   "cell_type": "code",
   "execution_count": null,
   "metadata": {},
   "outputs": [],
   "source": [
    "# Escribe tu código para el Ejercicio 1.3 aquí\n",
    "ips_permitidas = [] # Inicializa la lista aquí\n",
    "\n"
   ]
  },
  {
   "cell_type": "markdown",
   "metadata": {},
   "source": [
    "**Ejercicio 1.4 (Diccionarios):**\n",
    "* Crea un diccionario llamado `permisos_usuario` donde las claves sean nombres de usuario (strings) y los valores sean sus roles (strings). Ejemplo: `{\"admin\": \"superuser\", \"invitado\": \"lectura\", \"auditor\": \"lectura_logs\"}`.\n",
    "* Imprime el diccionario completo.\n",
    "* Imprime el rol del usuario \"admin\".\n",
    "* Añade un nuevo usuario \"desarrollador\" con el rol \"escritura\".\n",
    "* Imprime el diccionario actualizado.\n",
    "\n",
    "*Concepto:* Diccionarios (creación, acceso por clave, añadir elementos)."
   ]
  },
  {
   "cell_type": "code",
   "execution_count": null,
   "metadata": {},
   "outputs": [],
   "source": [
    "# Escribe tu código para el Ejercicio 1.4 aquí\n",
    "permisos_usuario = {} # Inicializa el diccionario aquí\n",
    "\n"
   ]
  },
  {
   "cell_type": "markdown",
   "metadata": {},
   "source": [
    "## 2. Operadores"
   ]
  },
  {
   "cell_type": "markdown",
   "metadata": {},
   "source": [
    "**Ejercicio 2.1 (Aritméticos y Comparación):**\n",
    "* Usando las variables `intentos_login` y `max_intentos` del ejercicio 1.2, calcula cuántos intentos quedan (`intentos_restantes = max_intentos - intentos_login`). Imprime el resultado.\n",
    "* Verifica si `intentos_login` es menor que `max_intentos`. Imprime el resultado (debería ser `True` o `False`).\n",
    "* Verifica si el `nombre_usuario` (del ejercicio 1.1, asegúrate de que esté definido) es exactamente igual a \"admin\". Imprime el resultado.\n",
    "\n",
    "*Concepto:* Operadores aritméticos (`-`), Operadores de comparación (`<`, `==`)."
   ]
  },
  {
   "cell_type": "code",
   "execution_count": null,
   "metadata": {},
   "outputs": [],
   "source": [
    "# Escribe tu código para el Ejercicio 2.1 aquí\n",
    "# Asegúrate de tener las variables intentos_login, max_intentos y nombre_usuario definidas previamente\n",
    "# (puedes copiarlas de las celdas anteriores si es necesario)\n",
    "intentos_login = 3\n",
    "max_intentos = 5\n",
    "nombre_usuario = \"tu_nombre\" # Cambia esto\n",
    "\n"
   ]
  },
  {
   "cell_type": "markdown",
   "metadata": {},
   "source": [
    "**Ejercicio 2.2 (Lógicos):**\n",
    "* Crea dos variables booleanas: `usuario_valido = True` y `password_correcto = False`.\n",
    "* Verifica si el usuario es válido **Y** la contraseña es correcta. Imprime el resultado.\n",
    "* Verifica si el usuario es válido **O** la contraseña es correcta. Imprime el resultado.\n",
    "* Verifica si el usuario **NO** es válido. Imprime el resultado.\n",
    "\n",
    "*Concepto:* Operadores lógicos (`and`, `or`, `not`)."
   ]
  },
  {
   "cell_type": "code",
   "execution_count": null,
   "metadata": {},
   "outputs": [],
   "source": [
    "# Escribe tu código para el Ejercicio 2.2 aquí\n",
    "\n"
   ]
  },
  {
   "cell_type": "markdown",
   "metadata": {},
   "source": [
    "## 3. Estructuras de Control: Condicionales (`if`, `elif`, `else`)"
   ]
  },
  {
   "cell_type": "markdown",
   "metadata": {},
   "source": [
    "**Ejercicio 3.1 (Comprobación Simple):**\n",
    "* Pide al usuario que introduzca una contraseña usando `input(\"Introduce tu contraseña: \")`. Guarda la entrada en una variable `password_introducida`.\n",
    "* Comprueba si la longitud (número de caracteres) de `password_introducida` es menor que 8.\n",
    "* Si es menor que 8, imprime \"Contraseña demasiado corta. Debe tener al menos 8 caracteres.\"\n",
    "* Si no (es decir, si es 8 o más), imprime \"Longitud de contraseña aceptable.\"\n",
    "\n",
    "*Concepto:* `input()`, `len()`, `if...else`."
   ]
  },
  {
   "cell_type": "code",
   "execution_count": null,
   "metadata": {},
   "outputs": [],
   "source": [
    "# Escribe tu código para el Ejercicio 3.1 aquí\n",
    "\n"
   ]
  },
  {
   "cell_type": "markdown",
   "metadata": {},
   "source": [
    "**Ejercicio 3.2 (Múltiples Condiciones):**\n",
    "* Usando la `password_introducida` del ejercicio anterior (puedes pedirla de nuevo o reutilizar la variable si estás ejecutando secuencialmente):\n",
    "    * Si la longitud es menor que 8, imprime \"Contraseña DÉBIL\".\n",
    "    * Si la longitud está entre 8 y 12 (inclusive), imprime \"Contraseña MEDIA\".\n",
    "    * Si la longitud es mayor que 12, imprime \"Contraseña FUERTE\".\n",
    "\n",
    "*Concepto:* `if...elif...else`, operadores de comparación (`<`, `>=`, `<=`, `>`)."
   ]
  },
  {
   "cell_type": "code",
   "execution_count": null,
   "metadata": {},
   "outputs": [],
   "source": [
    "# Escribe tu código para el Ejercicio 3.2 aquí\n",
    "# Puedes reutilizar password_introducida o pedirla de nuevo:\n",
    "# password_introducida = input(\"Introduce tu contraseña: \") \n",
    "\n"
   ]
  },
  {
   "cell_type": "markdown",
   "metadata": {},
   "source": [
    "**Ejercicio 3.3 (Pertenencia):**\n",
    "* Pide al usuario que introduzca su dirección IP usando `input()`.\n",
    "* Usando la lista `ips_permitidas` del ejercicio 1.3 (asegúrate de que esté definida), comprueba si la IP introducida está en la lista.\n",
    "* Si está en la lista, imprime \"Acceso permitido.\"\n",
    "* Si no está en la lista, imprime \"Acceso denegado.\"\n",
    "\n",
    "*Concepto:* `in` operator with lists, `if...else`."
   ]
  },
  {
   "cell_type": "code",
   "execution_count": null,
   "metadata": {},
   "outputs": [],
   "source": [
    "# Escribe tu código para el Ejercicio 3.3 aquí\n",
    "# Asegúrate de tener la lista ips_permitidas definida\n",
    "ips_permitidas = [\"192.168.1.1\", \"10.0.0.5\", \"8.8.8.8\", \"192.168.1.100\"] # Ejemplo\n",
    "\n"
   ]
  },
  {
   "cell_type": "markdown",
   "metadata": {},
   "source": [
    "## 4. Estructuras de Control: Bucles (`for`, `while`)"
   ]
  },
  {
   "cell_type": "markdown",
   "metadata": {},
   "source": [
    "**Ejercicio 4.1 (`for` con Listas):**\n",
    "* Itera sobre la lista `ips_permitidas` (asegúrate de que esté definida).\n",
    "* Dentro del bucle, imprime cada dirección IP precedida por \"Verificando IP: \".\n",
    "\n",
    "*Concepto:* Bucle `for` para iterar sobre listas."
   ]
  },
  {
   "cell_type": "code",
   "execution_count": null,
   "metadata": {},
   "outputs": [],
   "source": [
    "# Escribe tu código para el Ejercicio 4.1 aquí\n",
    "# Asegúrate de tener la lista ips_permitidas definida\n",
    "ips_permitidas = [\"192.168.1.1\", \"10.0.0.5\", \"8.8.8.8\", \"192.168.1.100\"] # Ejemplo\n",
    "\n"
   ]
  },
  {
   "cell_type": "markdown",
   "metadata": {},
   "source": [
    "**Ejercicio 4.2 (`for` con `range`):**\n",
    "* Usa un bucle `for` y la función `range()` para imprimir los números del 1 al 5 (inclusive).\n",
    "\n",
    "*Concepto:* Bucle `for`, `range()`."
   ]
  },
  {
   "cell_type": "code",
   "execution_count": null,
   "metadata": {},
   "outputs": [],
   "source": [
    "# Escribe tu código para el Ejercicio 4.2 aquí\n",
    "\n"
   ]
  },
  {
   "cell_type": "markdown",
   "metadata": {},
   "source": [
    "**Ejercicio 4.3 (`while`):**\n",
    "* Simula un contador de intentos de acceso. Inicializa una variable `intentos` a 0.\n",
    "* Usa un bucle `while` que se ejecute mientras `intentos` sea menor que 3.\n",
    "* Dentro del bucle, imprime \"Intento número X\" (sustituyendo X por el número de intento actual, empezando desde 1).\n",
    "* Incrementa la variable `intentos` en 1 en cada iteración.\n",
    "* Al salir del bucle, imprime \"Número máximo de intentos alcanzado.\"\n",
    "\n",
    "*Concepto:* Bucle `while`, contadores, incremento."
   ]
  },
  {
   "cell_type": "code",
   "execution_count": null,
   "metadata": {},
   "outputs": [],
   "source": [
    "# Escribe tu código para el Ejercicio 4.3 aquí\n",
    "\n"
   ]
  },
  {
   "cell_type": "markdown",
   "metadata": {},
   "source": [
    "## 5. Funciones"
   ]
  },
  {
   "cell_type": "markdown",
   "metadata": {},
   "source": [
    "**Ejercicio 5.1 (Función Simple):**\n",
    "* Define una función llamada `saludar_usuario` que tome un argumento `nombre`.\n",
    "* Dentro de la función, debe imprimir \"Hola, [nombre]! Bienvenido/a.\".\n",
    "* Llama a la función pasándole tu nombre.\n",
    "\n",
    "*Concepto:* Definición de funciones (`def`), argumentos, llamadas a funciones."
   ]
  },
  {
   "cell_type": "code",
   "execution_count": null,
   "metadata": {},
   "outputs": [],
   "source": [
    "# Escribe tu código para el Ejercicio 5.1 aquí\n",
    "\n"
   ]
  },
  {
   "cell_type": "markdown",
   "metadata": {},
   "source": [
    "**Ejercicio 5.2 (Función con Retorno):**\n",
    "* Define una función llamada `es_longitud_segura` que tome un argumento `password`.\n",
    "* La función debe devolver `True` si la longitud del `password` es 8 o más, y `False` en caso contrario.\n",
    "* Llama a la función con diferentes contraseñas (ej. \"12345\", \"claveSegura123\") y guarda el resultado en una variable. Imprime esa variable para ver el resultado.\n",
    "\n",
    "*Concepto:* `return` statement, funciones que devuelven booleanos."
   ]
  },
  {
   "cell_type": "code",
   "execution_count": null,
   "metadata": {},
   "outputs": [],
   "source": [
    "# Escribe tu código para el Ejercicio 5.2 aquí\n",
    "\n"
   ]
  },
  {
   "cell_type": "markdown",
   "metadata": {},
   "source": [
    "**Ejercicio 5.3 (Función con Bucle y Lista):**\n",
    "* Define una función llamada `verificar_ip` que tome dos argumentos: `ip_a_verificar` (un string) y `lista_ips` (una lista).\n",
    "* Dentro de la función, usa un bucle `for` para recorrer `lista_ips`.\n",
    "* Si `ip_a_verificar` se encuentra en `lista_ips`, la función debe devolver `True` inmediatamente.\n",
    "* Si el bucle termina sin encontrar la IP, la función debe devolver `False` (fuera del bucle).\n",
    "* Llama a la función usando la lista `ips_permitidas` y prueba con una IP que esté en la lista (\"10.0.0.5\") y otra que no (\"1.1.1.1\"). Imprime los resultados.\n",
    "\n",
    "*Concepto:* Combinar funciones, bucles, listas y `return`."
   ]
  },
  {
   "cell_type": "code",
   "execution_count": null,
   "metadata": {},
   "outputs": [],
   "source": [
    "# Escribe tu código para el Ejercicio 5.3 aquí\n",
    "# Asegúrate de tener la lista ips_permitidas definida\n",
    "ips_permitidas = [\"192.168.1.1\", \"10.0.0.5\", \"8.8.8.8\", \"192.168.1.100\"] # Ejemplo\n",
    "\n"
   ]
  },
  {
   "cell_type": "markdown",
   "metadata": {},
   "source": [
    "## 6. Manejo de Errores Básico (`try...except`)"
   ]
  },
  {
   "cell_type": "markdown",
   "metadata": {},
   "source": [
    "**Ejercicio 6.1 (Entrada Numérica):**\n",
    "* Pide al usuario que introduzca el número de días de validez de una contraseña (un entero) usando `input()`.\n",
    "* Intenta convertir la entrada a un entero usando `int()`.\n",
    "* Usa un bloque `try...except ValueError` para manejar el caso en que el usuario introduzca texto en lugar de un número.\n",
    "* Si la conversión es exitosa, imprime \"Número de días establecido: [número]\".\n",
    "* Si ocurre un `ValueError`, imprime \"Error: Debes introducir un número entero.\"\n",
    "\n",
    "*Concepto:* `try...except`, `ValueError`, `int()`."
   ]
  },
  {
   "cell_type": "code",
   "execution_count": null,
   "metadata": {},
   "outputs": [],
   "source": [
    "# Escribe tu código para el Ejercicio 6.1 aquí\n",
    "\n"
   ]
  },
  {
   "cell_type": "markdown",
   "metadata": {},
   "source": [
    "## 7. Entrada/Salida Básica (Archivos)"
   ]
  },
  {
   "cell_type": "markdown",
   "metadata": {},
   "source": [
    "**Ejercicio 7.1 (Escritura en Archivo):**\n",
    "* Crea una lista de strings llamada `usuarios_bloqueados = [\"user1\", \"test_user\", \"guest\"]`.\n",
    "* Abre un archivo llamado `bloqueados.txt` en modo escritura (`'w'`). Se recomienda usar `with`.\n",
    "* Usa un bucle `for` para recorrer la lista `usuarios_bloqueados`.\n",
    "* Dentro del bucle, escribe cada nombre de usuario en el archivo, seguido de un salto de línea (`\\n`).\n",
    "\n",
    "*Concepto:* Abrir archivos (`open()`), modo escritura (`'w'`), escribir líneas (`write()`), saltos de línea (`\\n`), `with` statement."
   ]
  },
  {
   "cell_type": "code",
   "execution_count": null,
   "metadata": {},
   "outputs": [],
   "source": [
    "# Escribe tu código para el Ejercicio 7.1 aquí\n",
    "\n"
   ]
  },
  {
   "cell_type": "markdown",
   "metadata": {},
   "source": [
    "**Ejercicio 7.2 (Lectura de Archivo):**\n",
    "* Abre el archivo `bloqueados.txt` que creaste en el ejercicio anterior en modo lectura (`'r'`), usando `with`.\n",
    "* Lee todas las líneas del archivo usando `readlines()` y guárdalas en una nueva lista llamada `leidos_desde_archivo`.\n",
    "* Imprime la lista `leidos_desde_archivo`.\n",
    "* *Opcional Avanzado:* Imprime la lista pero eliminando el `\\n` de cada elemento usando un bucle `for` y el método `.strip()`.\n",
    "\n",
    "*Concepto:* Modo lectura (`'r'`), leer líneas (`readlines()`), `with` statement, método `strip()` (opcional)."
   ]
  },
  {
   "cell_type": "code",
   "execution_count": null,
   "metadata": {},
   "outputs": [],
   "source": [
    "# Escribe tu código para el Ejercicio 7.2 aquí\n",
    "\n"
   ]
  },
  {
   "cell_type": "markdown",
   "metadata": {},
   "source": [
    "--- \n",
    "¡Buen trabajo! Completar estos ejercicios te dará una base sólida en Python para los siguientes módulos."
   ]
  }
 ],
 "metadata": {
  "kernelspec": {
   "display_name": "Python 3 (ipykernel)",
   "language": "python",
   "name": "python3"
  },
  "language_info": {
   "codemirror_mode": {
    "name": "ipython",
    "version": 3
   },
   "file_extension": ".py",
   "mimetype": "text/x-python",
   "name": "python",
   "nbconvert_exporter": "python",
   "pygments_lexer": "ipython3",
   "version": "3.9.7"
  }
 },
 "nbformat": 4,
 "nbformat_minor": 4
}
