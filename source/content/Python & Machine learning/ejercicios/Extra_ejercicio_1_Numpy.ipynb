{
 "cells": [
  {
   "cell_type": "markdown",
   "metadata": {},
   "source": [
    "# Ejercicios de Fundamentos de Python"
   ]
  },
  {
   "cell_type": "markdown",
   "metadata": {},
   "source": [
    "## 1. Introducción y Tipos de Datos Básicos"
   ]
  },
  {
   "cell_type": "code",
   "execution_count": null,
   "metadata": {},
   "outputs": [],
   "source": [
    "# Ejercicio 1.1: ¡Hola, Mundo!\n",
    "# Escribe un programa que imprima la frase \"¡Hola, Mundo!\" en la consola.\n",
    "print(\"¡Hola, Mundo!\")"
   ]
  },
  {
   "cell_type": "code",
   "execution_count": null,
   "metadata": {},
   "outputs": [],
   "source": [
    "# Ejercicio 1.2: Variables.\n",
    "# Crea una variable llamada `nombre` y asígnale tu nombre.\n",
    "# Crea una variable llamada `edad` y asígnale tu edad.\n",
    "# Imprime en la consola un mensaje que diga \"Mi nombre es [nombre] y tengo [edad] años.\"\n",
    "# (Reemplaza [nombre] y [edad] con los valores de tus variables).\n",
    "nombre = \"Tu Nombre\"\n",
    "edad = Tu Edad  # Reemplaza con tu edad\n",
    "print(f\"Mi nombre es {nombre} y tengo {edad} años.\")"
   ]
  },
  {
   "cell_type": "code",
   "execution_count": null,
   "metadata": {},
   "outputs": [],
   "source": [
    "# Ejercicio 1.3: Tipos de Datos.\n",
    "# Crea una variable con un número entero.\n",
    "# Crea una variable con un número decimal (float).\n",
    "# Crea una variable con una cadena de texto (string).\n",
    "# Crea una variable con un valor booleano (True o False).\n",
    "# Imprime el tipo de dato de cada variable usando la función `type()`.\n",
    "entero = 10\n",
    "decimal = 3.14\n",
    "cadena = \"Hola\"\n",
    "booleano = True\n",
    "\n",
    "print(f\"El tipo de dato de {entero} es: {type(entero)}\")\n",
    "print(f\"El tipo de dato de {decimal} es: {type(decimal)}\")\n",
    "print(f\"El tipo de dato de '{cadena}' es: {type(cadena)}\")\n",
    "print(f\"El tipo de dato de {booleano} es: {type(booleano)}\")"
   ]
  },
  {
   "cell_type": "code",
   "execution_count": null,
   "metadata": {},
   "outputs": [],
   "source": [
    "# Ejercicio 1.4: Operaciones Básicas.\n",
    "# Realiza una suma, una resta, una multiplicación y una división con dos números de tu elección.\n",
    "# Imprime los resultados.\n",
    "num1 = 15\n",
    "num2 = 5\n",
    "\n",
    "suma = num1 + num2\n",
    "resta = num1 - num2\n",
    "multiplicacion = num1 * num2\n",
    "division = num1 / num2\n",
    "\n",
    "print(f\"{num1} + {num2} = {suma}\")\n",
    "print(f\"{num1} - {num2} = {resta}\")\n",
    "print(f\"{num1} * {num2} = {multiplicacion}\")\n",
    "print(f\"{num1} / {num2} = {division}\")"
   ]
  },
  {
   "cell_type": "markdown",
   "metadata": {},
   "source": [
    "## 2. Estructuras de Control de Flujo"
   ]
  },
  {
   "cell_type": "code",
   "execution_count": null,
   "metadata": {},
   "outputs": [],
   "source": [
    "# Ejercicio 2.1: Condicionales (if/else).\n",
    "# Pide al usuario que ingrese un número.\n",
    "# Determina si el número es positivo, negativo o cero, e imprime un mensaje correspondiente.\n",
    "numero = int(input(\"Ingresa un número: \"))\n",
    "\n",
    "if numero > 0:\n",
    "    print(\"El número es positivo.\")\n",
    "elif numero < 0:\n",
    "    print(\"El número es negativo.\")\n",
    "else:\n",
    "    print(\"El número es cero.\")"
   ]
  },
  {
   "cell_type": "code",
   "execution_count": null,
   "metadata": {},
   "outputs": [],
   "source": [
    "# Ejercicio 2.2: Condicionales Anidados.\n",
    "# Pide al usuario que ingrese su edad.\n",
    "# Si la edad es menor de 18, imprime \"Eres menor de edad\".\n",
    "# Si la edad está entre 18 y 65 (inclusive), imprime \"Eres adulto\".\n",
    "# Si la edad es mayor de 65, imprime \"Eres un adulto mayor\".\n",
    "edad = int(input(\"Ingresa tu edad: \"))\n",
    "\n",
    "if edad < 18:\n",
    "    print(\"Eres menor de edad.\")\n",
    "elif 18 <= edad <= 65:\n",
    "    print(\"Eres adulto.\")\n",
    "else:\n",
    "    print(\"Eres un adulto mayor.\")"
   ]
  },
  {
   "cell_type": "code",
   "execution_count": null,
   "metadata": {},
   "outputs": [],
   "source": [
    "# Ejercicio 2.3: Bucles (for).\n",
    "# Imprime los números del 1 al 10 utilizando un bucle `for`.\n",
    "for i in range(1, 11):\n",
    "    print(i)\n",
    "\n",
    "# Crea una lista de colores (por ejemplo: rojo, verde, azul).\n",
    "# Recorre la lista e imprime cada color.\n",
    "colores = [\"rojo\", \"verde\", \"azul\"]\n",
    "for color in colores:\n",
    "    print(color)"
   ]
  },
  {
   "cell_type": "code",
   "execution_count": null,
   "metadata": {},
   "outputs": [],
   "source": [
    "# Ejercicio 2.4: Bucles (while).\n",
    "# Crea una variable contador inicializada en 0.\n",
    "# Utiliza un bucle `while` para imprimir los números del 1 al 5 (incrementando el contador en cada iteración).\n",
    "contador = 1\n",
    "while contador <= 5:\n",
    "    print(contador)\n",
    "    contador += 1"
   ]
  },
  {
   "cell_type": "code",
   "execution_count": null,
   "metadata": {},
   "outputs": [],
   "source": [
    "# Ejercicio 2.5: break y continue.\n",
    "# Crea un bucle `for` que recorra los números del 1 al 10.\n",
    "# Utiliza la sentencia `break` para detener el bucle cuando el número sea 5.\n",
    "for i in range(1, 11):\n",
    "    if i == 5:\n",
    "        break\n",
    "    print(i)\n",
    "\n",
    "# Crea un bucle `for` que recorra los números del 1 al 10.\n",
    "# Utiliza la sentencia `continue` para saltar la impresión del número 3.\n",
    "for i in range(1, 11):\n",
    "    if i == 3:\n",
    "        continue\n",
    "    print(i)"
   ]
  },
  {
   "cell_type": "markdown",
   "metadata": {},
   "source": [
    "## 3. Colecciones de Datos"
   ]
  },
  {
   "cell_type": "code",
   "execution_count": null,
   "metadata": {},
   "outputs": [],
   "source": [
    "# Ejercicio 3.1: Listas.\n",
    "# Crea una lista con 5 nombres de frutas.\n",
    "# Imprime el primer elemento de la lista.\n",
    "# Agrega una nueva fruta al final de la lista.\n",
    "# Elimina la segunda fruta de la lista.\n",
    "# Imprime la lista resultante.\n",
    "frutas = [\"manzana\", \"banana\", \"naranja\", \"uva\", \"fresa\"]\n",
    "print(f\"El primer elemento es: {frutas[0]}\")\n",
    "frutas.append(\"kiwi\")\n",
    "del frutas[1]\n",
    "print(f\"La lista actualizada es: {frutas}\")"
   ]
  },
  {
   "cell_type": "code",
   "execution_count": null,
   "metadata": {},
   "outputs": [],
   "source": [
    "# Ejercicio 3.2: Tuplas.\n",
    "# Crea una tupla con 3 números.\n",
    "# Intenta modificar el primer elemento de la tupla (observa el error).\n",
    "# Imprime la tupla completa.\n",
    "numeros_tupla = (1, 2, 3)\n",
    "# Intenta descomentar la siguiente línea para ver el error:\n",
    "# numeros_tupla[0] = 10\n",
    "print(f\"La tupla es: {numeros_tupla}\")"
   ]
  },
  {
   "cell_type": "code",
   "execution_count": null,
   "metadata": {},
   "outputs": [],
   "source": [
    "# Ejercicio 3.3: Diccionarios.\n",
    "# Crea un diccionario que represente la información de una persona (nombre, edad, ciudad).\n",
    "# Imprime el nombre de la persona.\n",
    "# Agrega un nuevo campo al diccionario (por ejemplo, profesión).\n",
    "# Modifica la edad de la persona.\n",
    "# Imprime el diccionario actualizado.\n",
    "persona = {\n",
    "    \"nombre\": \"Ana\",\n",
    "    \"edad\": 30,\n",
    "    \"ciudad\": \"Madrid\"\n",
    "}\n",
    "\n",
    "print(f\"El nombre es: {persona['nombre']}\")\n",
    "persona[\"profesion\"] = \"Ingeniera\"\n",
    "persona[\"edad\"] = 31\n",
    "print(f\"El diccionario actualizado es: {persona}\")"
   ]
  },
  {
   "cell_type": "markdown",
   "metadata": {},
   "source": [
    "## 4. Funciones"
   ]
  },
  {
   "cell_type": "code",
   "execution_count": null,
   "metadata": {},
   "outputs": [],
   "source": [
    "# Ejercicio 4.1: Definición y Llamada.\n",
    "# Define una función llamada `saludar` que imprima \"¡Hola!\".\n",
    "# Llama a la función `saludar`.\n",
    "def saludar():\n",
    "    print(\"¡Hola!\")\n",
    "\n",
    "saludar()"
   ]
  },
  {
   "cell_type": "code",
   "execution_count": null,
   "metadata": {},
   "outputs": [],
   "source": [
    "# Ejercicio 4.2: Parámetros.\n",
    "# Define una función llamada `saludar_nombre` que tome un parámetro `nombre` e imprima \"¡Hola, [nombre]!\".\n",
    "# Llama a la función `saludar_nombre` con tu nombre como argumento.\n",
    "def saludar_nombre(nombre):\n",
    "    print(f\"¡Hola, {nombre}!\")\n",
    "\n",
    "saludar_nombre(\"Tu Nombre\")"
   ]
  },
  {
   "cell_type": "code",
   "execution_count": null,
   "metadata": {},
   "outputs": [],
   "source": [
    "# Ejercicio 4.3: Retorno de Valores.\n",
    "# Define una función llamada `sumar` que tome dos parámetros (dos números) y retorne la suma de ambos.\n",
    "# Llama a la función `sumar` con dos números e imprime el resultado que retorna.\n",
    "def sumar(num1, num2):\n",
    "    return num1 + num2\n",
    "\n",
    "resultado_suma = sumar(7, 3)\n",
    "print(f\"La suma es: {resultado_suma}\")"
   ]
  },
  {
   "cell_type": "code",
   "execution_count": null,
   "metadata": {},
   "outputs": [],
   "source": [
    "# Ejercicio 4.4: Parámetros por Defecto.\n",
    "# Define una función llamada `potencia` que tome dos parámetros: `base` y `exponente` (con un valor por defecto de 2).\n",
    "# La función debe retornar la base elevada al exponente.\n",
    "# Llama a la función `potencia` pasando solo la base.\n",
    "# Llama a la función `potencia` pasando tanto la base como el exponente.\n",
    "def potencia(base, exponente=2):\n",
    "    return base ** exponente\n",
    "\n",
    "resultado1 = potencia(5)\n",
    "resultado2 = potencia(5, 3)\n",
    "\n",
    "print(f\"5 elevado a la potencia por defecto (2) es: {resultado1}\")\n",
    "print(f\"5 elevado a la potencia 3 es: {resultado2}\")"
   ]
  },
  {
   "cell_type": "markdown",
   "metadata": {},
   "source": [
    "## 5. Entrada y Salida de Datos"
   ]
  },
  {
   "cell_type": "code",
   "execution_count": null,
   "metadata": {},
   "outputs": [],
   "source": [
    "# Ejercicio 5.1: Entrada del Usuario.\n",
    "# Pide al usuario que ingrese su nombre y guárdalo en una variable.\n",
    "# Pide al usuario que ingrese su edad y guárdala en otra variable (asegúrate de convertir la entrada a un número entero usando `int()`).\n",
    "# Imprime un mensaje que combine ambas entradas.\n",
    "nombre_usuario = input(\"Ingresa tu nombre: \")\n",
    "edad_usuario = int(input(\"Ingresa tu edad: \"))\n",
    "\n",
    "print(f\"Hola {nombre_usuario}, tienes {edad_usuario} años.\")"
   ]
  },
  {
   "cell_type": "code",
   "execution_count": null,
   "metadata": {},
   "outputs": [],
   "source": [
    "# Ejercicio 5.2: Formateo de Cadenas.\n",
    "# Utiliza f-strings para crear un mensaje similar al del Ejercicio 1.2, pero utilizando variables que hayas definido previamente.\n",
    "nombre_ejercicio_5_2 = \"Otro Nombre\"\n",
    "edad_ejercicio_5_2 = 25\n",
    "\n",
    "mensaje = f\"Mi nombre es {nombre_ejercicio_5_2} y tengo {edad_ejercicio_5_2} años.\"\n",
    "print(mensaje)"
   ]
  }
 ],
 "