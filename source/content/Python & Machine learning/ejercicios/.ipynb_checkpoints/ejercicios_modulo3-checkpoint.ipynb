{
 "cells": [
  {
   "cell_type": "markdown",
   "metadata": {},
   "source": [
    "# Ejercicios Conceptuales - Módulo 3: Fundamentos de IA y Machine Learning"
   ]
  },
  {
   "cell_type": "markdown",
   "metadata": {},
   "source": [
    "**Objetivo:** Consolidar la comprensión de los conceptos teóricos fundamentales de la Inteligencia Artificial (IA) y el Machine Learning (ML), sus tipos, el proceso estándar y la terminología clave, aplicados al contexto de la ciberseguridad."
   ]
  },
  {
   "cell_type": "markdown",
   "metadata": {},
   "source": [
    "## 1. IA vs. ML"
   ]
  },
  {
   "cell_type": "markdown",
   "metadata": {},
   "source": [
    "**Ejercicio 1.1: Definiciones Propias**\n",
    "\n",
    "En tus propias palabras, explica brevemente:\n",
    "1. ¿Qué es la Inteligencia Artificial (IA)?\n",
    "2. ¿Qué es el Machine Learning (ML)?\n",
    "3. ¿Cuál es la relación principal entre IA y ML?"
   ]
  },
  {
   "cell_type": "markdown",
   "metadata": {
    "tags": []
   },
   "source": [
    "**Escribe tu respuesta aquí:**\n",
    "\n",
    "1.  *IA es...*\n",
    "2.  *ML es...*\n",
    "3.  *La relación es...*"
   ]
  },
  {
   "cell_type": "markdown",
   "metadata": {},
   "source": [
    "## 2. Tipos de Aprendizaje Automático (Machine Learning)"
   ]
  },
  {
   "cell_type": "markdown",
   "metadata": {},
   "source": [
    "**Ejercicio 2.1: Identificación de Problemas**\n",
    "\n",
    "Para cada uno de los siguientes escenarios de ciberseguridad, identifica qué tipo principal de Machine Learning se aplicaría (Elige entre: **Clasificación**, **Regresión**, **Clustering**):\n",
    "\n",
    "1.  Determinar si un archivo ejecutable es 'malware' o 'benigno' basándose en sus características estáticas (tamaño, secciones, etc.).\n",
    "2.  Predecir la puntuación de riesgo (un valor numérico entre 0 y 100) de una nueva vulnerabilidad basándose en su descripción y tipo.\n",
    "3.  Agrupar automáticamente alertas de seguridad similares generadas por un SIEM para reducir el ruido, sin saber de antemano cuáles son los grupos 'correctos'.\n",
    "4.  Decidir si un intento de login es 'legítimo' o 'fraudulento' basándose en la IP de origen, hora del día y comportamiento previo del usuario.\n",
    "5.  Estimar la cantidad de tráfico de red (en Gigabytes) que generará un ataque DDoS basándose en las características iniciales observadas.\n",
    "6.  Descubrir patrones anómalos en el tráfico de red que no corresponden a comportamientos conocidos, para identificar posibles ataques zero-day."
   ]
  },
  {
   "cell_type": "markdown",
   "metadata": {
    "tags": []
   },
   "source": [
    "**Escribe tus respuestas aquí:**\n",
    "\n",
    "1.  *Tipo de ML: ...*\n",
    "2.  *Tipo de ML: ...*\n",
    "3.  *Tipo de ML: ...*\n",
    "4.  *Tipo de ML: ...*\n",
    "5.  *Tipo de ML: ...*\n",
    "6.  *Tipo de ML: ...*"
   ]
  },
  {
   "cell_type": "markdown",
   "metadata": {},
   "source": [
    "**Ejercicio 2.2: Supervisado vs. No Supervisado**\n",
    "\n",
    "Explica brevemente la diferencia fundamental entre el aprendizaje supervisado y el no supervisado. ¿Qué papel juegan las 'etiquetas' (labels) en esta diferencia?"
   ]
  },
  {
   "cell_type": "markdown",
   "metadata": {
    "tags": []
   },
   "source": [
    "**Escribe tu respuesta aquí:**\n",
    "\n",
    "*La diferencia principal es... Las etiquetas son importantes porque...*"
   ]
  },
  {
   "cell_type": "markdown",
   "metadata": {},
   "source": [
    "## 3. El Proceso de Machine Learning"
   ]
  },
  {
   "cell_type": "markdown",
   "metadata": {},
   "source": [
    "**Ejercicio 3.1: Orden de Pasos**\n",
    "\n",
    "Ordena los siguientes pasos generales del proceso de Machine Learning:\n",
    "\n",
    "* Evaluación del Modelo\n",
    "* Entrenamiento del Modelo\n",
    "* Selección del Modelo\n",
    "* Despliegue (Puesta en producción)\n",
    "* Recolección de Datos\n",
    "* Preprocesamiento de Datos e Ingeniería de Características"
   ]
  },
  {
   "cell_type": "markdown",
   "metadata": {
    "tags": []
   },
   "source": [
    "**Escribe el orden correcto aquí:**\n",
    "\n",
    "1.  ...\n",
    "2.  ...\n",
    "3.  ...\n",
    "4.  ...\n",
    "5.  ...\n",
    "6.  ..."
   ]
  },
  {
   "cell_type": "markdown",
   "metadata": {},
   "source": [
    "**Ejercicio 3.2: Importancia del Preprocesamiento**\n",
    "\n",
    "¿Por qué es crucial la etapa de 'Preprocesamiento de Datos e Ingeniería de Características'? Menciona al menos un ejemplo de preprocesamiento que podría ser necesario al trabajar con logs de seguridad."
   ]
  },
  {
   "cell_type": "markdown",
   "metadata": {
    "tags": []
   },
   "source": [
    "**Escribe tu respuesta aquí:**\n",
    "\n",
    "*Es crucial porque... Un ejemplo de preprocesamiento en logs podría ser...*"
   ]
  },
  {
   "cell_type": "markdown",
   "metadata": {},
   "source": [
    "## 4. Conceptos Clave: Features, Labels, Datasets"
   ]
  },
  {
   "cell_type": "markdown",
   "metadata": {},
   "source": [
    "**Ejercicio 4.1: Features y Labels en Phishing**\n",
    "\n",
    "Imagina que quieres construir un modelo para detectar si una URL es de 'phishing' o 'legítima'.\n",
    "\n",
    "1.  Menciona al menos 3 posibles *features* (características) que podrías extraer de la URL para usar en tu modelo.\n",
    "2.  ¿Cuál sería la *label* (etiqueta) que tu modelo intentaría predecir?"
   ]
  },
  {
   "cell_type": "markdown",
   "metadata": {
    "tags": []
   },
   "source": [
    "**Escribe tus respuestas aquí:**\n",
    "\n",
    "1.  *Features posibles: ...*\n",
    "2.  *Label: ...*"
   ]
  },
  {
   "cell_type": "markdown",
   "metadata": {},
   "source": [
    "**Ejercicio 4.2: Propósito de los Conjuntos de Datos**\n",
    "\n",
    "Explica brevemente cuál es el propósito principal de cada uno de estos conjuntos de datos en el desarrollo de un modelo de ML:\n",
    "\n",
    "1.  Conjunto de Entrenamiento (Training Set)\n",
    "2.  Conjunto de Prueba (Test Set)\n",
    "3.  Conjunto de Validación (Validation Set - opcional pero común)"
   ]
  },
  {
   "cell_type": "markdown",
   "metadata": {
    "tags": []
   },
   "source": [
    "**Escribe tus respuestas aquí:**\n",
    "\n",
    "1.  *Training Set se usa para...*\n",
    "2.  *Test Set se usa para...*\n",
    "3.  *Validation Set se usa para...*"
   ]
  },
  {
   "cell_type": "markdown",
   "metadata": {},
   "source": [
    "**Ejercicio 4.3: Ilustración de División Train/Test (Código)**\n",
    "\n",
    "El siguiente código usa la función `train_test_split` de `scikit-learn` para dividir datos simulados (`X`) y sus etiquetas (`y`) en conjuntos de entrenamiento y prueba. Ejecútalo y observa cómo se dividen los datos. \n",
    "\n",
    "*Nota: Esto es solo para ilustrar la división, no estamos entrenando un modelo aquí.*"
   ]
  },
  {
   "cell_type": "code",
   "execution_count": null,
   "metadata": {},
   "outputs": [],
   "source": [
    "import numpy as np\n",
    "from sklearn.model_selection import train_test_split\n",
    "\n",
    "# Datos simulados (features): 10 ejemplos, 2 características cada uno\n",
    "X = np.array([[1, 2], [3, 4], [5, 6], [7, 8], [9, 10], \n",
    "                [11, 12], [13, 14], [15, 16], [17, 18], [19, 20]])\n",
    "\n",
    "# Etiquetas simuladas (0 o 1)\n",
    "y = np.array([0, 1, 0, 1, 0, 1, 0, 1, 0, 1])\n",
    "\n",
    "# Dividir los datos (80% entrenamiento, 20% prueba)\n",
    "# random_state asegura que la división sea la misma cada vez que se ejecuta\n",
    "X_train, X_test, y_train, y_test = train_test_split(X, y, test_size=0.2, random_state=42)\n",
    "\n",
    "print(\"Forma de X (original):\", X.shape)\n",
    "print(\"Forma de y (original):\", y.shape)\n",
    "print(\"---\")\n",
    "print(\"Forma de X_train:\", X_train.shape)\n",
    "print(\"Forma de y_train:\", y_train.shape)\n",
    "print(\"---\")\n",
    "print(\"Forma de X_test:\", X_test.shape)\n",
    "print(\"Forma de y_test:\", y_test.shape)\n",
    "\n",
    "# Puedes imprimir los arrays para ver qué datos cayeron en cada conjunto\n",
    "# print(\"\\nX_train:\\n\", X_train)\n",
    "# print(\"\\nX_test:\\n\", X_test)"
   ]
  },
  {
   "cell_type": "markdown",
   "metadata": {},
   "source": [
    "## 5. Problemas Comunes: Overfitting y Underfitting"
   ]
  },
  {
   "cell_type": "markdown",
   "metadata": {},
   "source": [
    "**Ejercicio 5.1: Explicaciones**\n",
    "\n",
    "Explica con tus palabras:\n",
    "1.  ¿Qué significa que un modelo está **sobreajustado** (overfitting)? ¿Cómo se manifestaría esto al comparar su rendimiento en el conjunto de entrenamiento vs. el conjunto de prueba?\n",
    "2.  ¿Qué significa que un modelo está **subajustado** (underfitting)? ¿Cómo se manifestaría su rendimiento?"
   ]
  },
  {
   "cell_type": "markdown",
   "metadata": {
    "tags": []
   },
   "source": [
    "**Escribe tus respuestas aquí:**\n",
    "\n",
    "1.  *Overfitting es... Se vería como...*\n",
    "2.  *Underfitting es... Se vería como...*"
   ]
  },
  {
   "cell_type": "markdown",
   "metadata": {},
   "source": [
    "## 6. Métricas de Evaluación Básicas (Interpretación Conceptual)"
   ]
  },
  {
   "cell_type": "markdown",
   "metadata": {},
   "source": [
    "**Ejercicio 6.1: Matriz de Confusión y Accuracy**\n",
    "\n",
    "Imagina que un modelo de detección de malware ha sido probado en 1000 archivos. La matriz de confusión resultante es:\n",
    "\n",
    "|                | Predicho: Benigno | Predicho: Malware |\n",
    "|----------------|-----------------|-------------------|\n",
    "| **Real: Benigno** | 950 (TN)        | 10 (FP)           |\n",
    "| **Real: Malware** | 5 (FN)          | 35 (TP)           |\n",
    "\n",
    "Donde:\n",
    "* TN = True Negatives (Benignos correctamente clasificados)\n",
    "* FP = False Positives (Benignos clasificados como Malware - Falsa Alarma)\n",
    "* FN = False Negatives (Malware clasificado como Benigno - Fallo Peligroso)\n",
    "* TP = True Positives (Malware correctamente clasificado)\n",
    "\n",
    "1.  Calcula la **Accuracy** (Exactitud) del modelo. Accuracy = (TP + TN) / Total.\n",
    "2.  ¿Cuántos archivos de malware reales **no** fueron detectados por el modelo?"
   ]
  },
  {
   "cell_type": "code",
   "execution_count": null,
   "metadata": {
    "tags": []
   },
   "outputs": [],
   "source": [
    "# Calcula la Accuracy aquí\n",
    "TN = 950\n",
    "FP = 10\n",
    "FN = 5\n",
    "TP = 35\n",
    "\n",
    "Total = TN + FP + FN + TP\n",
    "\n",
    "# accuracy = ...\n",
    "# print(f\"Total de archivos: {Total}\")\n",
    "# print(f\"Accuracy: {accuracy:.4f}\") # :.4f formatea a 4 decimales\n",
    "\n",
    "# Responde a la pregunta 2 aquí (puedes usar un print)\n",
    "# print(f\"Número de malware no detectado (FN): {FN}\")"
   ]
  },
  {
   "cell_type": "markdown",
   "metadata": {},
   "source": [
    "**Ejercicio 6.2: Precision vs. Recall (Contexto)**\n",
    "\n",
    "Recordando las definiciones:\n",
    "* **Precision** (Precisión) = TP / (TP + FP) - *De todo lo que predije como Positivo, ¿cuánto era realmente Positivo?* (Minimiza Falsos Positivos)\n",
    "* **Recall** (Sensibilidad/Exhaustividad) = TP / (TP + FN) - *De todos los Positivos reales, ¿cuántos encontré?* (Minimiza Falsos Negativos)\n",
    "\n",
    "Considera los siguientes escenarios:\n",
    "\n",
    "1.  **Escenario A:** Estás construyendo un sistema para detectar intrusiones de red muy peligrosas. Un **Falso Negativo** (no detectar una intrusión real) tendría consecuencias catastróficas. Un Falso Positivo (investigar una alerta que no era real) es molesto pero manejable. ¿Priorizarías optimizar la **Precision** o el **Recall** de la clase 'Intrusión'? ¿Por qué?\n",
    "\n",
    "2.  **Escenario B:** Estás construyendo un filtro anti-spam para correos electrónicos. Un **Falso Positivo** (marcar un correo importante como spam) es muy problemático para el usuario. Un Falso Negativo (dejar pasar algo de spam) es molesto pero menos grave. ¿Priorizarías optimizar la **Precision** o el **Recall** de la clase 'Spam'? ¿Por qué?"
   ]
  },
  {
   "cell_type": "markdown",
   "metadata": {
    "tags": []
   },
   "source": [
    "**Escribe tus respuestas aquí:**\n",
    "\n",
    "1.  *Escenario A: Priorizaría... porque...*\n",
    "2.  *Escenario B: Priorizaría... porque...*"
   ]
  },
  {
   "cell_type": "markdown",
   "metadata": {},
   "source": [
    "**Ejercicio 6.3: Limitaciones de la Accuracy**\n",
    "\n",
    "Imagina un dataset donde el 99% de los logs de red son tráfico normal ('Benigno') y solo el 1% es tráfico de ataque ('Malicioso'). Un modelo muy simple podría decidir clasificar *siempre* como 'Benigno'.\n",
    "\n",
    "1.  ¿Qué Accuracy tendría este modelo tan simple en ese dataset?\n",
    "2.  ¿Sería útil este modelo para detectar ataques? ¿Por qué la Accuracy puede ser engañosa en datasets desbalanceados?"
   ]
  },
  {
   "cell_type": "markdown",
   "metadata": {
    "tags": []
   },
   "source": [
    "**Escribe tus respuestas aquí:**\n",
    "\n",
    "1.  *La Accuracy sería aproximadamente...*\n",
    "2.  *El modelo sería (útil/inútil) porque... La Accuracy es engañosa aquí porque...*"
   ]
  },
  {
   "cell_type": "markdown",
   "metadata": {},
   "source": [
    "--- \n",
    "¡Felicidades! Has repasado los conceptos teóricos clave del Machine Learning. Entender estos fundamentos es esencial antes de empezar a implementar y evaluar modelos en el próximo módulo."
   ]
  }
 ],
 "metadata": {
  "kernelspec": {
   "display_name": "Python 3 (ipykernel)",
   "language": "python",
   "name": "python3"
  },
  "language_info": {
   "codemirror_mode": {
    "name": "ipython",
    "version": 3
   },
   "file_extension": ".py",
   "mimetype": "text/x-python",
   "name": "python",
   "nbconvert_exporter": "python",
   "pygments_lexer": "ipython3",
   "version": "3.12.3"
  }
 },
 "nbformat": 4,
 "nbformat_minor": 4
}
